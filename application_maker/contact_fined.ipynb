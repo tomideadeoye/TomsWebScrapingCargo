{
 "cells": [
  {
   "cell_type": "code",
   "execution_count": 13,
   "metadata": {},
   "outputs": [],
   "source": [
    "import os\n",
    "import sys\n",
    "sys.path.append(sys.path.append(os.path.dirname(os.path.dirname(os.path.abspath(\"utils\")))))\n",
    "from utils.toms_python_utilities import email_extractor\n"
   ]
  },
  {
   "cell_type": "code",
   "execution_count": null,
   "metadata": {},
   "outputs": [],
   "source": [
    "# marekting presentation and apps\n",
    "\n",
    "text = ['tim.gilday@gdit.com',\n",
    " 'me@patrickskinner.tech',\n",
    " 'alejo@ondamax.com',\n",
    " 'tetchjan.simpson@doas.ga.gov',\n",
    " 'john.gostomski@protonmail.com',\n",
    " 'dale@taxbit.com',\n",
    " 'sabinaeinatsokol@gmail.com',\n",
    " 'agamico.comme@patrickskinner.tech',\n",
    " 'jgostomski@live.com',\n",
    " 'marquis.allen@clinicalsquared.com',\n",
    " 'joshua.hakakian@va.gov']"
   ]
  },
  {
   "cell_type": "code",
   "execution_count": 16,
   "metadata": {},
   "outputs": [
    {
     "data": {
      "text/plain": [
       "['tomide@gmail.com']"
      ]
     },
     "execution_count": 16,
     "metadata": {},
     "output_type": "execute_result"
    }
   ],
   "source": [
    "text = \"something at tomide@gmail.com dksfnl lfr\" \n",
    "\n",
    "# found = list(set(email_extractor(text)))\n",
    "found = email_extractor(text)\n",
    "\n",
    "\n",
    "found"
   ]
  },
  {
   "cell_type": "code",
   "execution_count": 17,
   "metadata": {},
   "outputs": [
    {
     "data": {
      "text/plain": [
       "['tomide@gmail.com']"
      ]
     },
     "execution_count": 17,
     "metadata": {},
     "output_type": "execute_result"
    }
   ],
   "source": [
    "found"
   ]
  },
  {
   "cell_type": "code",
   "execution_count": null,
   "metadata": {},
   "outputs": [],
   "source": []
  }
 ],
 "metadata": {
  "kernelspec": {
   "display_name": "Python 3.9.15 ('venv': venv)",
   "language": "python",
   "name": "python3"
  },
  "language_info": {
   "codemirror_mode": {
    "name": "ipython",
    "version": 3
   },
   "file_extension": ".py",
   "mimetype": "text/x-python",
   "name": "python",
   "nbconvert_exporter": "python",
   "pygments_lexer": "ipython3",
   "version": "3.9.15 (main, Oct 11 2022, 21:39:54) \n[Clang 14.0.0 (clang-1400.0.29.102)]"
  },
  "orig_nbformat": 4,
  "vscode": {
   "interpreter": {
    "hash": "fdc41f0eadf12055021ad23f87a8a9ee8e96f5c00b057f56ee298e5db47363e5"
   }
  }
 },
 "nbformat": 4,
 "nbformat_minor": 2
}
