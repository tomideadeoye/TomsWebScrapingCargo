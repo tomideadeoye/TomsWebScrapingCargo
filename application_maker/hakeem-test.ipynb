{
 "cells": [
  {
   "cell_type": "code",
   "execution_count": 15,
   "metadata": {},
   "outputs": [],
   "source": [
    "from urllib.request import Request, urlopen\n",
    "import pandas as pd\n",
    "from bs4 import BeautifulSoup\n",
    "import time\n",
    "from selenium import webdriver\n",
    "from collections import Counter\n",
    "import numpy as np\n",
    "import matplotlib.pyplot as plt"
   ]
  },
  {
   "cell_type": "code",
   "execution_count": 2,
   "metadata": {},
   "outputs": [],
   "source": [
    "# - Matplotlib library\n",
    "# - Test-Driven Development\n",
    "\n",
    "\n",
    "# 2. Ensure to have two spaces exactly between import and actual codes in modules\n",
    "\n",
    "# ## Github Convention\n",
    "\n",
    "# 1. Create a branch named `implement-web-analysis` and only work within this branch\n",
    "# 3. When done, push your changes and raise a pull request on Github using the pull request template already added to the project (`.github` folder)\n",
    "\n",
    "# - Try to not attempt to conceptualize the whole documentation and codebase at once, instead move step by step through the task\n",
    "# - Ensure to understand the problem before attempting to write any code\n",
    "# - Ensure to write the expected unit tests first before actual implementation, as that confirms that you are conforming to the `TDD Methodology`.\n",
    "# - Ensure to manually experiment within the modules to confirm the results of your implementations\n",
    "\n",
    "\n",
    "# ```bash\n",
    "# Machine>> cd <this-project-folder>\n",
    "\n",
    "# Machine>> python -m unittest tests\n",
    "# ```\n",
    "\n",
    "# ## Task Analysis and Design\n",
    "\n",
    "# We need to lay out a design of what the final program should look\n",
    "# like, as well as how it should function. For testing purposes, we'll use Python's home page. Eventually, we'll want the final output to look like...\n",
    "\n",
    "# ## Pie Plot\n",
    "\n",
    "# ![Pie Plot Analysis](assets/pie_plot.png)\n",
    "\n",
    "# ## Bar Plot\n",
    "\n",
    "# ![Web Analysis](assets/bar_chart.png)\n",
    "\n",
    "# ## Step by step Analysis\n",
    "\n",
    "# - We're going to make the program continually ask the users if they'd like to scrape a web site <br/>\n",
    "# - Accept the users' input for the site they'd like to analyze.\n",
    "# - After that, we can filter out all information that isn't useful like\n",
    "#   - All non-text elements, such as scripts, comments, etc.\n",
    "#   - All common article words and useless characters like newlines characters, empty spaces and tabs\n",
    "#   - 1. Create a bar plot.\n",
    "#   - 2. Create a pie plot\n",
    "\n",
    "# The program output should look like the following:\n",
    "\n",
    "# >>> The top word is: python\n",
    "# >>> *** show bar plot ***\n",
    "# ```\n",
    "\n"
   ]
  },
  {
   "cell_type": "code",
   "execution_count": 3,
   "metadata": {},
   "outputs": [],
   "source": [
    "\n",
    "\n",
    "class TomideBeautifulSoupUtils:\n",
    "    def __init__(self, url, type, scroll):\n",
    "        self.url = url\n",
    "        self.type = type\n",
    "        self.scroll = scroll\n",
    "    \n",
    "    @staticmethod\n",
    "    def get_classes(soup):\n",
    "        class_list = []\n",
    "        tags = {tag for tag in soup.find_all()}\n",
    "        for tag in tags:\n",
    "            if tag.has_attr( \"class\" ):\n",
    "                if len( tag['class'] ) != 0:\n",
    "                    if tag['class'][0] not in class_list:\n",
    "                        class_list.append( tag['class'][0])\n",
    "        return class_list\n",
    "\n",
    "    def tomide_bs4_make_soup(url, type, scroll):\n",
    "        if type == \"static\":\n",
    "            req = Request(url , headers={'User-Agent': 'Mozilla/5.0'})\n",
    "            webpage = urlopen(req).read()\n",
    "            return BeautifulSoup(webpage, 'html.parser')\n",
    "\n",
    "        elif type == \"incognito\":\n",
    "            driver = webdriver.Chrome()\n",
    "            driver.get(url)\n",
    "            if scroll == True:\n",
    "                SCROLL_PAUSE_TIME = 10\n",
    "                last_height = driver.execute_script(\"return document.body.scrollHeight\")   # Get scroll height\n",
    "                while True:\n",
    "                    driver.execute_script(\"window.scrollTo(0, document.body.scrollHeight);\") # Scroll down to bottom\n",
    "                    time.sleep(SCROLL_PAUSE_TIME)  # Wait to load page\n",
    "                    new_height = driver.execute_script(\"return document.body.scrollHeight\") # Calculate new scroll height and compare with last scroll height\n",
    "                    if new_height == last_height:\n",
    "                        break\n",
    "                    last_height = new_height\n",
    "            driver.quit()\n",
    "            return BeautifulSoup(driver.page_source, 'html.parser')\n",
    "        else: \n",
    "            options = webdriver.ChromeOptions()\n",
    "            options.add_argument(\"user-data-dir=/Users/tomideisawesome/Library/Application Support/Google/Chrome\")\n",
    "            driver = webdriver.Chrome(options=options)\n",
    "            driver.get(url)\n",
    "            driver.quit()\n",
    "            return BeautifulSoup(driver.page_source, 'html.parser')\n"
   ]
  },
  {
   "cell_type": "code",
   "execution_count": 8,
   "metadata": {},
   "outputs": [],
   "source": [
    "def program ():\n",
    "    while True:\n",
    "        user_input = input(\"Would you like to scrape a website (y/n)? \")\n",
    "        if user_input.lower() == \"y\":\n",
    "            url = input(\"Enter a website to analyze: \")\n",
    "            soup = TomideBeautifulSoupUtils.tomide_bs4_make_soup(url, \"static\", False)\n",
    "            return soup.get_text().split()\n",
    "            break\n",
    "        elif user_input.lower() == \"n\":\n",
    "            print(\"Thanks for analyzing! Come back again!\")\n",
    "            break\n",
    "        else:\n",
    "            print(\"Invalid input, please try again.\")\n",
    "            continue\n",
    "\n",
    "common_words = [    \"and\",    \"from\", \"it\",    \"seen\",    \"after\",    \"with\",    \"more\",    \"our\",    \"they\",    \"any\",    \"you\",    \">>>\",    \"your\",    \"was\",    \"his\",    \"been\",    \"thanks\",    \"now\",    \"for\",    \"the\",    \"has\",    \"would\",    \"new\", \"with\",    \"this\",    \"that\",]\n",
    "extracted_content = program()\n",
    "extracted_content = [item for item in extracted_content if item not in common_words]\n",
    "print(extracted_content)"
   ]
  },
  {
   "cell_type": "markdown",
   "metadata": {},
   "source": []
  },
  {
   "cell_type": "code",
   "execution_count": 11,
   "metadata": {},
   "outputs": [
    {
     "name": "stdout",
     "output_type": "stream",
     "text": [
      "['Welcome', 'to', 'Python.org', 'Notice:', 'While', 'JavaScript', 'is', 'not', 'essential', 'website,', 'interaction', 'content', 'will', 'be', 'limited.', 'Please', 'turn', 'JavaScript', 'on', 'full', 'experience.', 'Skip', 'to', 'content', '▼', 'Close', 'Python', 'PSF', 'Docs', 'PyPI', 'Jobs', 'Community', '▲', 'The', 'Python', 'Network', 'Donate', '≡', 'Menu', 'Search', 'This', 'Site', 'GO', 'A', 'A', 'Smaller', 'Larger', 'Reset', 'Socialize', 'Facebook', 'Twitter', 'Chat', 'on', 'IRC', 'About', 'Applications', 'Quotes', 'Getting', 'Started', 'Help', 'Python', 'Brochure', 'Downloads', 'All', 'releases', 'Source', 'code', 'Windows', 'macOS', 'Other', 'Platforms', 'License', 'Alternative', 'Implementations', 'Documentation', 'Docs', 'Audio/Visual', 'Talks', \"Beginner's\", 'Guide', \"Developer's\", 'Guide', 'FAQ', 'Non-English', 'Docs', 'PEP', 'Index', 'Python', 'Books', 'Python', 'Essays', 'Community', 'Diversity', 'Mailing', 'Lists', 'IRC', 'Forums', 'PSF', 'Annual', 'Impact', 'Report', 'Python', 'Conferences', 'Special', 'Interest', 'Groups', 'Python', 'Logo', 'Python', 'Wiki', 'Code', 'of', 'Conduct', 'Community', 'Awards', 'Get', 'Involved', 'Shared', 'Stories', 'Success', 'Stories', 'Arts', 'Business', 'Education', 'Engineering', 'Government', 'Scientific', 'Software', 'Development', 'News', 'Python', 'News', 'PSF', 'Newsletter', 'PSF', 'News', 'PyCon', 'US', 'News', 'News', 'Community', 'Events', 'Python', 'Events', 'User', 'Group', 'Events', 'Python', 'Events', 'Archive', 'User', 'Group', 'Events', 'Archive', 'Submit', 'an', 'Event', '>_', 'Launch', 'Interactive', 'Shell', '#', 'Python', '3:', 'Fibonacci', 'series', 'up', 'to', 'n', 'def', 'fib(n):', 'a,', 'b', '=', '0,', '1', 'while', 'a', '<', 'n:', 'print(a,', \"end='\", \"')\", 'a,', 'b', '=', 'b,', 'a+b', 'print()', 'fib(1000)', '0', '1', '1', '2', '3', '5', '8', '13', '21', '34', '55', '89', '144', '233', '377', '610', '987', 'Functions', 'Defined', 'The', 'core', 'of', 'extensible', 'programming', 'is', 'defining', 'functions.', 'Python', 'allows', 'mandatory', 'optional', 'arguments,', 'keyword', 'arguments,', 'even', 'arbitrary', 'argument', 'lists.', 'More', 'about', 'defining', 'functions', 'in', 'Python', '3', '#', 'Python', '3:', 'List', 'comprehensions', 'fruits', '=', \"['Banana',\", \"'Apple',\", \"'Lime']\", 'loud_fruits', '=', '[fruit.upper()', 'fruit', 'in', 'fruits]', 'print(loud_fruits)', \"['BANANA',\", \"'APPLE',\", \"'LIME']\", '#', 'List', 'enumerate', 'function', 'list(enumerate(fruits))', '[(0,', \"'Banana'),\", '(1,', \"'Apple'),\", '(2,', \"'Lime')]\", 'Compound', 'Data', 'Types', 'Lists', '(known', 'as', 'arrays', 'in', 'other', 'languages)', 'are', 'one', 'of', 'compound', 'data', 'types', 'Python', 'understands.', 'Lists', 'can', 'be', 'indexed,', 'sliced', 'manipulated', 'other', 'built-in', 'functions.', 'More', 'about', 'lists', 'in', 'Python', '3', '#', 'Python', '3:', 'Simple', 'arithmetic', '1', '/', '2', '0.5', '2', '**', '3', '8', '17', '/', '3', '#', 'classic', 'division', 'returns', 'a', 'float', '5.666666666666667', '17', '//', '3', '#', 'floor', 'division', '5', 'Intuitive', 'Interpretation', 'Calculations', 'are', 'simple', 'Python,', 'expression', 'syntax', 'is', 'straightforward:', 'operators', '+,', '-,', '*', '/', 'work', 'as', 'expected;', 'parentheses', '()', 'can', 'be', 'used', 'grouping.', 'More', 'about', 'simple', 'math', 'functions', 'in', 'Python', '3.', '#', 'For', 'loop', 'on', 'a', 'list', 'numbers', '=', '[2,', '4,', '6,', '8]', 'product', '=', '1', 'number', 'in', 'numbers:', '...', 'product', '=', 'product', '*', 'number', '...', \"print('The\", 'product', \"is:',\", 'product)', 'The', 'product', 'is:', '384', 'All', 'Flow', 'You’d', 'Expect', 'Python', 'knows', 'usual', 'control', 'flow', 'statements', 'other', 'languages', 'speak', '—', 'if,', 'for,', 'while', 'range', '—', 'some', 'of', 'its', 'own', 'twists,', 'of', 'course.', 'More', 'control', 'flow', 'tools', 'in', 'Python', '3', '#', 'Simple', 'output', '(with', 'Unicode)', 'print(\"Hello,', \"I'm\", 'Python!\")', 'Hello,', \"I'm\", 'Python!', '#', 'Input,', 'assignment', 'name', '=', \"input('What\", 'is', \"name?\\\\n')\", 'What', 'is', 'name?', 'Python', \"print(f'Hi,\", \"{name}.')\", 'Hi,', 'Python.', 'Quick', '&', 'Easy', 'to', 'Learn', 'Experienced', 'programmers', 'in', 'other', 'language', 'can', 'pick', 'up', 'Python', 'very', 'quickly,', 'beginners', 'find', 'clean', 'syntax', 'indentation', 'structure', 'easy', 'to', 'learn.', 'Whet', 'appetite', 'Python', '3', 'overview.', 'Python', 'is', 'a', 'programming', 'language', 'lets', 'work', 'quickly', 'integrate', 'systems', 'effectively.', 'Learn', 'More', 'Get', 'Started', 'Whether', \"you're\", 'to', 'programming', 'or', 'an', 'experienced', 'developer,', \"it's\", 'easy', 'to', 'learn', 'use', 'Python.', 'Start', 'Beginner’s', 'Guide', 'Download', 'Python', 'source', 'code', 'installers', 'are', 'available', 'download', 'all', 'versions!', 'Latest:', 'Python', '3.11.2', 'Docs', 'Documentation', \"Python's\", 'standard', 'library,', 'along', 'tutorials', 'guides,', 'are', 'available', 'online.', 'docs.python.org', 'Jobs', 'Looking', 'work', 'or', 'have', 'a', 'Python', 'related', 'position', \"you're\", 'trying', 'to', 'hire', 'for?', 'Our', 'relaunched', 'community-run', 'job', 'board', 'is', 'place', 'to', 'go.', 'jobs.python.org', 'Latest', 'News', 'More', '2023-02-15', 'The', 'Case', 'a', 'Second', 'Developer-in-Residence', 'Python', '2023-02-10', 'Python', 'Packaging', 'Strategy', 'Discussion', 'Summary', '-', 'Part', '1', '2023-02-08', 'Python', '3.11.2,', 'Python', '3.10.10', '3.12.0', 'alpha', '5', 'are', 'available', '2023-02-08', 'Announcing', 'Python', 'Software', 'Foundation', 'Fellow', 'Members', 'Q4', '2022!', '🎉', '2023-01-26', 'The', 'PSF', 'is', 'hiring', 'a', 'Security', 'Developer-in-Residence!', 'Upcoming', 'Events', 'More', '2023-02-21', 'PyCon', 'Namibia', '2023', '2023-02-23', 'PyLadies', 'Amsterdam', '+', 'MLOps.Community', 'Meetup', '2023-02-25', 'PyCon', 'PH', '2023', '2023-03-02', 'Global', 'AI', 'Bootcamp', '2023-03-06', 'GeoPython', '2023', 'Success', 'Stories', 'More', '\"Some', 'of', 'things', '[SonarCloud]', 'spots', 'are', 'impressive', '(probably', 'driven', 'by', 'some', 'introspection', 'and/or', 'type', 'inference),', 'not', 'just', 'simple', 'pattern', 'matching', 'I', 'am', 'used', 'to', 'in', 'most', 'of', 'flake8', 'ecosystem.\"', '-', 'Peter', 'J.', 'A.', 'Cock', '-', 'maintainer', 'of', 'BioPython', 'Deliver', 'Clean', 'Safe', 'Code', 'Your', 'Python', 'Applications', 'by', 'Kirti', 'Joshi,', 'Nicolas', 'Bontoux', 'Use', 'Python', 'for…', 'More', 'Web', 'Development:', 'Django,', 'Pyramid,', 'Bottle,', 'Tornado,', 'Flask,', 'web2py', 'GUI', 'Development:', 'tkInter,', 'PyGObject,', 'PyQt,', 'PySide,', 'Kivy,', 'wxPython', 'Scientific', 'Numeric:', 'SciPy,', 'Pandas,', 'IPython', 'Software', 'Development:', 'Buildbot,', 'Trac,', 'Roundup', 'System', 'Administration:', 'Ansible,', 'Salt,', 'OpenStack,', 'xonsh', 'Python', 'Enhancement', 'Proposals', '(PEPs):', 'The', 'future', 'of', 'Python', 'is', 'discussed', 'here.', 'RSS', 'Python', 'Software', 'Foundation', 'The', 'mission', 'of', 'Python', 'Software', 'Foundation', 'is', 'to', 'promote,', 'protect,', 'advance', 'Python', 'programming', 'language,', 'to', 'support', 'facilitate', 'growth', 'of', 'a', 'diverse', 'international', 'community', 'of', 'Python', 'programmers.', 'Learn', 'Become', 'a', 'Member', 'Donate', 'to', 'PSF', '▲', 'Back', 'to', 'Top', 'About', 'Applications', 'Quotes', 'Getting', 'Started', 'Help', 'Python', 'Brochure', 'Downloads', 'All', 'releases', 'Source', 'code', 'Windows', 'macOS', 'Other', 'Platforms', 'License', 'Alternative', 'Implementations', 'Documentation', 'Docs', 'Audio/Visual', 'Talks', \"Beginner's\", 'Guide', \"Developer's\", 'Guide', 'FAQ', 'Non-English', 'Docs', 'PEP', 'Index', 'Python', 'Books', 'Python', 'Essays', 'Community', 'Diversity', 'Mailing', 'Lists', 'IRC', 'Forums', 'PSF', 'Annual', 'Impact', 'Report', 'Python', 'Conferences', 'Special', 'Interest', 'Groups', 'Python', 'Logo', 'Python', 'Wiki', 'Code', 'of', 'Conduct', 'Community', 'Awards', 'Get', 'Involved', 'Shared', 'Stories', 'Success', 'Stories', 'Arts', 'Business', 'Education', 'Engineering', 'Government', 'Scientific', 'Software', 'Development', 'News', 'Python', 'News', 'PSF', 'Newsletter', 'PSF', 'News', 'PyCon', 'US', 'News', 'News', 'Community', 'Events', 'Python', 'Events', 'User', 'Group', 'Events', 'Python', 'Events', 'Archive', 'User', 'Group', 'Events', 'Archive', 'Submit', 'an', 'Event', 'Contributing', \"Developer's\", 'Guide', 'Issue', 'Tracker', 'python-dev', 'list', 'Core', 'Mentorship', 'Report', 'a', 'Security', 'Issue', '▲', 'Back', 'to', 'Top', 'Help', '&', 'General', 'Contact', 'Diversity', 'Initiatives', 'Submit', 'Website', 'Bug', 'Status', 'Copyright', '©2001-2023.', 'Python', 'Software', 'Foundation', 'Legal', 'Statements', 'Privacy', 'Policy', 'Powered', 'by', 'Heroku']\n"
     ]
    }
   ],
   "source": []
  },
  {
   "cell_type": "markdown",
   "metadata": {},
   "source": []
  },
  {
   "cell_type": "code",
   "execution_count": null,
   "metadata": {},
   "outputs": [],
   "source": []
  }
 ],
 "metadata": {
  "kernelspec": {
   "display_name": "venv",
   "language": "python",
   "name": "python3"
  },
  "language_info": {
   "codemirror_mode": {
    "name": "ipython",
    "version": 3
   },
   "file_extension": ".py",
   "mimetype": "text/x-python",
   "name": "python",
   "nbconvert_exporter": "python",
   "pygments_lexer": "ipython3",
   "version": "3.9.15"
  },
  "orig_nbformat": 4,
  "vscode": {
   "interpreter": {
    "hash": "fdc41f0eadf12055021ad23f87a8a9ee8e96f5c00b057f56ee298e5db47363e5"
   }
  }
 },
 "nbformat": 4,
 "nbformat_minor": 2
}
