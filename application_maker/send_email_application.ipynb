{
 "cells": [
  {
   "cell_type": "code",
   "execution_count": 2,
   "metadata": {},
   "outputs": [
    {
     "name": "stdout",
     "output_type": "stream",
     "text": [
      "Hello Denise,\n",
      "I am Tomide; a software engineer with a tech & management postgraduate certification. I am also a writer at a Technology Research Organisation. I am looking to work with amazing people on all kinds of projects.\n",
      "Can I reach you for advice & mentorship?\n",
      "Hello Denise,\n",
      "I am Tomide; a software engineer with a tech & management postgraduate certification. I am also a writer at a Technology Research Organisation. I am looking to work with amazing people on all kinds of projects.\n",
      "Do you have any opportunities at BH for someone like me? If not, can I still reach out for advice & mentorship and also sparingly send you projects I am building? \n",
      "\n",
      "Also, here is my portfolio/resume (https://tomide-adeoye.netlify.app) - it has all information about me.\n"
     ]
    }
   ],
   "source": [
    "import os\n",
    "import sys\n",
    "\n",
    "sys.path.append(sys.path.append(os.path.dirname(os.path.dirname(os.path.abspath(\"utils\")))))\n",
    "\n",
    "from utils.toms_python_utilities import send_email\n",
    "from utils.contact_manager import hrFromGithubScrape2, tomide_adeoye_contact\n",
    "from utils.networking_manager import connection_unknown_person, get_cover_letter_cv, cool_project_worked_on"
   ]
  },
  {
   "cell_type": "code",
   "execution_count": 3,
   "metadata": {},
   "outputs": [],
   "source": [
    "def make_application(template, company, role, skills, wantCover_letter , person, wantCV, companyMission, team):\n",
    "    \n",
    "    sendables =  get_cover_letter_cv(template, company, role, wantCover_letter, wantCV)\n",
    "    subject = f\"\"\"Building with {company}; Tomide Adeoye; {role} Application\"\"\"\n",
    "    body = connection_unknown_person() + tomide_adeoye_contact\n",
    "\n",
    "    send_email(person, subject, body, sendables[\"files\"])\n",
    "    print(\"Receiver\", person, \"Successfully applied to\", company, role, \" well done and best of luck! You are awesome!\")"
   ]
  },
  {
   "cell_type": "code",
   "execution_count": 4,
   "metadata": {},
   "outputs": [],
   "source": [
    "def make_application2(person):\n",
    "    subject = f\"\"\"Tomide Adeoye: Junior Software Engineer Application\"\"\"\n",
    "    emailBody =  connection_unknown_person() + tomide_adeoye_contact\n",
    "    send_email(person, subject, emailBody, [\"/Users/tomideisawesome/Library/CloudStorage/GoogleDrive-tommideadeoye@gmail.com/My Drive/APPLICATION BOX/Tomide Adeoye CV.pdf\"])\n",
    "    print(person, \"Successfully applied well done and best of luck! You are awesome!\")"
   ]
  },
  {
   "cell_type": "code",
   "execution_count": 5,
   "metadata": {},
   "outputs": [
    {
     "name": "stdout",
     "output_type": "stream",
     "text": [
      "itimileyin47@gmail.com Successfully applied well done and best of luck! You are awesome!\n"
     ]
    }
   ],
   "source": [
    "\n",
    "\n",
    "for person in ['itimileyin47@gmail.com']:\n",
    "    make_application2(person)"
   ]
  },
  {
   "cell_type": "code",
   "execution_count": 7,
   "metadata": {},
   "outputs": [],
   "source": [
    "targets = \"HackVC, Pitango, Protocol Labs, Lattice, and Balaji Srinivasan, and others.\"\n",
    "\n",
    "\n",
    "'''\n",
    "\n",
    "Balaji Srinivasan, PhD\n",
    "\n",
    "Blockchain consultant + strategist\n",
    "\n",
    "Eli David, PhD\n",
    "\n",
    "Machine Learning consultant\n",
    "\n",
    "Yaniv Altshuler, PhD\n",
    "\n",
    "Blockchain + Machine Learning consultant\n",
    "\n",
    "'''\n",
    "\n",
    "application_type_templates = [\"front_end\", \"full_stack\", \"data_science\", \"data_engineer\", \"blockchain\", \"business\", \"product\", \"venture\", \"mobile\", \"technical writing\"]\n",
    "contacted = [\"eddzain2@gmail.com\"]\n",
    "\n",
    "technical_writing = [\"Pooja.singh@iconma.com\"]\n",
    "\n",
    "fake_list= [{\"company\": \"Magic Africa\",  \"role\": \"Full Stack Engineer\",   \"contact\":  \"itimileyin47@gmail.com\",  \"team\": True, \"companyVision\": \"financing founders and building the next generation of African tech companies\"}]\n",
    "\n",
    "frontend_applications = [\n",
    "    {\"company\": \"Mono\",  \"role\": \"Full Stack Engineer\",   \"contact\":  \"mono@jobs.workablemail.com\",   \"team\": True,\n",
    "    \"companyVision\": \"creating easy access to financial data. This is all the more important because an increasing number of people are tyring to make data driven decisions using financial data.\"},\n",
    "\n",
    "    {\"company\": \"One Liquidity\",  \"role\": \"Full Stack Engineer\",  \"contact\": \"munachi@oneliquidity.com\", \"team\": False,\n",
    "    \"companyVision\": \"One Liquidity is an API-first, dashboard-enabled platform to allow Fin-techs, Cryptostart-ups, P2P traders, and OTC businesses to build and scale Liquidity and Technology.\"},\n",
    "\n",
    "    {\"company\" : \"Add3\", \"role\": \"Frontend Engineer/Fullstack Engineer\", \"contact\": \"jobs@add3.io\",  \"team\": True,\n",
    "    \"companyVision\": \"using high-end digital marketing skills, people and toolkits to help brands excel. This is all the more important in economic downtimes in which competition is more stff.\"},\n",
    "\n",
    "    { \"company\": \"Collider Ventures\",  \"role\": \"Fullstack Engineer\",  \"contact\": \"lior@collider.vc\", \"team\": False,\n",
    "    \"companyVision\": \"building startups that shape the future of the decentralized internet. I find this particularly fascinating as an African because I am grossly aware of the economic liberty introduced by stablecoins and their ability to facilitate complete remote/online delivery of service.\", },\n",
    "\n",
    "    {\"company\": \"Inovaegs\",   \"role\": \"Junior Fullstack Engineer(React/Flutter)\",   \"contact\": \"careers@inovaeg.com\",  \"team\": True,\n",
    "    \"companyVision\": \"working with global businesses and allowing them build their business while you focus on building the software that ensures their success.\"},    \n",
    "    \n",
    "    {\"company\": \"BC.Game\",  \"role\": \"Fullstack Engineer\",  \"contact\": \"jolie@bc.game\", \"team\": False,\n",
    "    \"companyVision\": \"building the best online casino experience. I so much loved the ingenuity put in designing your products and I am excited to work with the team.\"},\n",
    "\n",
    "    { \"company\": \"Trail of Bits\",  \"role\": \"Fullstack Engineer\", \"contact\": \"dan@trailofbits.com\", \"team\": False,\n",
    "     \"companyVision\": \"combining high-end security research with a real-world attacker mentality to reduce risk and fortify code. I got highly interested in Trail of bits up after a research review I did with SCRF on oracle manipulation, MEV and arbitrage. I found this all the more exciting giving my previous experience in bypassing Nigerian official exchange rate through a combination of USDT and Binance P2P trades. I am open to and will be excited to commit 24hrs of my time toward working with Trail of Bits\",},\n",
    " \n",
    "    {\"company\": \"Almond ObGyn\", \"role\": \"Frontend Engineer\", \"contact\": \"tara@almondobgyn.com\", \"team\": False,\n",
    "    \"companyVision\": \"making telehealth easily accessible. I particualarly relate to this bacause of the numerous challenges with the health care system in Africa.\"},\n",
    "\n",
    "    {\"company\": \"Sepana\", \"role\": \"Frontend Engineer\", \"contact\": \"daniel@sepana.io\", \"team\": False,\n",
    "        \"companyVision\": \"Sepana is building a search infrastructure for web3. I am particularly excited about this having done a lot of research into the make up of most Smart Contract categories and what makes them unique. I have also written a lot of scraping bots and I absolutely understand the value of data extraction and cleaning. I understand how it directly ties into the business goals of most organisation.\",}\n",
    "    ]\n",
    "\n",
    "reserchRoles =[\n",
    "    {\"company\": \"Prysm Group\",  \"role\": \"Economics Research Intern\",    \"contact\": \"careers@prysmgroup.io\",  \"team\": True,\n",
    "    \"companyVision\": \"Prysm Group is a blockchain research and development firm that builds and invests in blockchain projects. We are a team of 30+ people from 15+ countries, with offices in London, New York, and Singapore. We are building a new generation of financial products and services that will transform the way people interact with money.\",},\n",
    "    \n",
    "    {\"company\": \"World Economic Forumn\", \"role\": \"World Economic Forumn\", \"contact\":  \"cisa@weforum.org\", \n",
    "    \"companyVision\": \"\"},\n",
    "    \n",
    "    {\"company\": \"Paystack\", \"role\": \"product Specialist\",  \"contact\":  \"bolaji@paystack.com\",\n",
    "     \"companyVision\": \"\"},\n",
    "    \n",
    "    {\"company\": \"Acumen Research Labs\", \"role\": \"Research Intern\",   \"contact\":  \"rui.serapicos@acumenstrategy.com\",   \n",
    "    \"companyVision\": \"\"}, \n",
    "    ]\n",
    "\n",
    "cryptoResearchRoles = []\n",
    "\n",
    "placesToApply = [\"careers@norebase.com\"]\n",
    "peopleToApplyTo = [\"Lian@itworks.org.il\"]\n",
    "deleteList =['itimileyin47@gmail.com']\n",
    "\n",
    "possible_applications = [fake_list, frontend_applications, reserchRoles, deleteList]\n",
    "current_list = possible_applications[3] \n",
    "wantCover_letter = False\n",
    "wantCV = True\n",
    "skills = []"
   ]
  },
  {
   "cell_type": "code",
   "execution_count": 9,
   "metadata": {},
   "outputs": [
    {
     "name": "stdout",
     "output_type": "stream",
     "text": [
      "Error name 'cool_project' is not defined Failed to apply to Magic Africa Full Stack Engineer well done and best of luck! You are awesome!\n",
      "Submissions Done\n"
     ]
    }
   ],
   "source": [
    "for person in fake_list:\n",
    "    try:\n",
    "        make_application(application_type_templates[0], person[\"company\"], person[\"role\"], skills, wantCover_letter, person[\"contact\"] , wantCV, person[\"companyVision\"], person[\"team\"])\n",
    "        print(\"Successfully applied to\", person[\"company\"], person[\"role\"], \" using \", application_type_templates[0], \" well done and best of luck! You are awesome!\")\n",
    "    except Exception as e:\n",
    "        print(\"Error\", e, \"Failed to apply to\", person[\"company\"], person[\"role\"], \"well done and best of luck! You are awesome!\")\n",
    "print(\"Submissions Done\")"
   ]
  },
  {
   "cell_type": "code",
   "execution_count": 108,
   "metadata": {},
   "outputs": [
    {
     "data": {
      "text/plain": [
       "[{'company': '@seerbit.com', 'contact': 'Omoniyi Kolade'}]"
      ]
     },
     "execution_count": 108,
     "metadata": {},
     "output_type": "execute_result"
    }
   ],
   "source": [
    "contacted = [ {\"company\": \"Terragon\", \"role\": \"Software Engineer\", \"contact\": \"vasekhamhe@terragonltd.com\"},]\n",
    "batched = [{\"company\" : \"Add3\", \"contact\": \"hello@42labs.xyz\", \"role\": \"Smart Contract Engineer\",}]\n",
    "[{\"company\": \"@seerbit.com\", \"contact\": \"Omoniyi Kolade\"}]"
   ]
  }
 ],
 "metadata": {
  "kernelspec": {
   "display_name": "Python 3.9.15 ('venv': venv)",
   "language": "python",
   "name": "python3"
  },
  "language_info": {
   "codemirror_mode": {
    "name": "ipython",
    "version": 3
   },
   "file_extension": ".py",
   "mimetype": "text/x-python",
   "name": "python",
   "nbconvert_exporter": "python",
   "pygments_lexer": "ipython3",
   "version": "3.9.15 (main, Oct 11 2022, 21:39:54) \n[Clang 14.0.0 (clang-1400.0.29.102)]"
  },
  "orig_nbformat": 4,
  "vscode": {
   "interpreter": {
    "hash": "fdc41f0eadf12055021ad23f87a8a9ee8e96f5c00b057f56ee298e5db47363e5"
   }
  }
 },
 "nbformat": 4,
 "nbformat_minor": 2
}
