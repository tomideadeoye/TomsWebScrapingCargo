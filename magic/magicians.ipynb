{
 "cells": [
  {
   "cell_type": "code",
   "execution_count": 69,
   "metadata": {},
   "outputs": [],
   "source": [
    "import os\n",
    "import pandas as pd\n",
    "from PyPDF2 import PdfReader\n",
    "from tabula import read_pdf\n",
    "import fitz\n",
    "import io\n",
    "from PIL import Image"
   ]
  },
  {
   "cell_type": "code",
   "execution_count": 82,
   "metadata": {},
   "outputs": [
    {
     "name": "stdout",
     "output_type": "stream",
     "text": [
      "Collecting pytesseract\n",
      "  Downloading pytesseract-0.3.10-py3-none-any.whl (14 kB)\n",
      "Requirement already satisfied: packaging>=21.3 in /Users/tomideisawesome/Documents/GitHub/TomsWebScrapingCargo/venv/lib/python3.9/site-packages (from pytesseract) (21.3)\n",
      "Requirement already satisfied: Pillow>=8.0.0 in /Users/tomideisawesome/Documents/GitHub/TomsWebScrapingCargo/venv/lib/python3.9/site-packages (from pytesseract) (9.2.0)\n",
      "Requirement already satisfied: pyparsing!=3.0.5,>=2.0.2 in /Users/tomideisawesome/Documents/GitHub/TomsWebScrapingCargo/venv/lib/python3.9/site-packages (from packaging>=21.3->pytesseract) (2.4.7)\n",
      "Installing collected packages: pytesseract\n",
      "Successfully installed pytesseract-0.3.10\n",
      "\n",
      "\u001b[1m[\u001b[0m\u001b[34;49mnotice\u001b[0m\u001b[1;39;49m]\u001b[0m\u001b[39;49m A new release of pip available: \u001b[0m\u001b[31;49m22.3.1\u001b[0m\u001b[39;49m -> \u001b[0m\u001b[32;49m23.0\u001b[0m\n",
      "\u001b[1m[\u001b[0m\u001b[34;49mnotice\u001b[0m\u001b[1;39;49m]\u001b[0m\u001b[39;49m To update, run: \u001b[0m\u001b[32;49mpip install --upgrade pip\u001b[0m\n",
      "Requirement already satisfied: pillow in /Users/tomideisawesome/Documents/GitHub/TomsWebScrapingCargo/venv/lib/python3.9/site-packages (9.2.0)\n",
      "\n",
      "\u001b[1m[\u001b[0m\u001b[34;49mnotice\u001b[0m\u001b[1;39;49m]\u001b[0m\u001b[39;49m A new release of pip available: \u001b[0m\u001b[31;49m22.3.1\u001b[0m\u001b[39;49m -> \u001b[0m\u001b[32;49m23.0\u001b[0m\n",
      "\u001b[1m[\u001b[0m\u001b[34;49mnotice\u001b[0m\u001b[1;39;49m]\u001b[0m\u001b[39;49m To update, run: \u001b[0m\u001b[32;49mpip install --upgrade pip\u001b[0m\n"
     ]
    }
   ],
   "source": [
    "!pip install pytesseract\n",
    "!pip install pillow"
   ]
  },
  {
   "cell_type": "code",
   "execution_count": 80,
   "metadata": {},
   "outputs": [],
   "source": [
    "def imageExtractor(pdf_file):\n",
    "    pdf_file = fitz.open(pdf_file) # open the file\n",
    "    file_names = []\n",
    "    for page_index in range(len(pdf_file)):\n",
    "        page = pdf_file[page_index] # get the page itself\n",
    "        image_list = page.get_images() # get image list\n",
    "        if image_list: # printing number of images found in this page\n",
    "            print(f\"[+] Found a total of {len(image_list)} images in page {page_index}\")\n",
    "        else:\n",
    "            print(\"[!] No images found on page\", page_index)\n",
    "        for image_index, img in enumerate(image_list, start=1):\n",
    "            xref = img[0] # get the XREF of the image\n",
    "            base_image = pdf_file.extract_image(xref) # extract the image bytes\n",
    "            image_bytes = base_image[\"image\"] # get the image extension\n",
    "            image_ext = base_image[\"ext\"] # load it to PIL\n",
    "            image = Image.open(io.BytesIO(image_bytes)) # save it to local disk\n",
    "            # image.save(open(f\"image{page_index+1}_{image_index}.{image_ext}\", \"wb\"))\n",
    "            file_names.append(f\"image{page_index+1}_{image_index}.{image_ext}\")\n",
    "    return file_names\n"
   ]
  },
  {
   "cell_type": "code",
   "execution_count": 81,
   "metadata": {},
   "outputs": [
    {
     "name": "stdout",
     "output_type": "stream",
     "text": [
      "[+] Found a total of 2 images in page 0\n",
      "{'company_name': 'indicina', 'date': '10 Dec 2021', 'number_of_customers': -1, 'images': ['image1_1.png', 'image1_2.png']}\n"
     ]
    }
   ],
   "source": [
    "def indicinaParser():\n",
    "    directory = './indicina'\n",
    "    files = os.listdir(directory) # get all the files in the directory\n",
    "    excel_table_image = imageExtractor(directory + '/' +files[7])\n",
    "    reader = PdfReader(directory + '/' +files[7])\n",
    "    content = ''\n",
    "    for page in reader.pages:\n",
    "        content += page.extract_text()\n",
    "    date = content.find('Date')\n",
    "\n",
    "    extract = {\n",
    "        'company_name': directory.split('/')[1],\n",
    "        'date': content[date:date+29].split(',')[1].strip(),\n",
    "        'number_of_customers': content.find('Number of customers'),\n",
    "        'images': excel_table_image\n",
    "        # number of cutsomers\n",
    "    # platform traction\n",
    "    # monthly metrics table\n",
    "    # Standing Ask: \n",
    "    }\n",
    "    print(extract)\n",
    "\n",
    "indicinaParser()\n"
   ]
  },
  {
   "cell_type": "code",
   "execution_count": null,
   "metadata": {},
   "outputs": [],
   "source": []
  }
 ],
 "metadata": {
  "kernelspec": {
   "display_name": "venv",
   "language": "python",
   "name": "python3"
  },
  "language_info": {
   "codemirror_mode": {
    "name": "ipython",
    "version": 3
   },
   "file_extension": ".py",
   "mimetype": "text/x-python",
   "name": "python",
   "nbconvert_exporter": "python",
   "pygments_lexer": "ipython3",
   "version": "3.9.15"
  },
  "orig_nbformat": 4,
  "vscode": {
   "interpreter": {
    "hash": "fdc41f0eadf12055021ad23f87a8a9ee8e96f5c00b057f56ee298e5db47363e5"
   }
  }
 },
 "nbformat": 4,
 "nbformat_minor": 2
}
