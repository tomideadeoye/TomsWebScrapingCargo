{
 "cells": [
  {
   "cell_type": "code",
   "execution_count": 1,
   "metadata": {},
   "outputs": [],
   "source": [
    "import os\n",
    "import sys\n",
    "sys.path.append(sys.path.append(os.path.dirname(os.path.dirname(os.path.abspath(\"utils\")))))\n",
    "from utils.toms_python_utilities import tomide_bs4_make_soup, send_email"
   ]
  },
  {
   "cell_type": "code",
   "execution_count": 2,
   "metadata": {},
   "outputs": [],
   "source": [
    "subscribers = [\"tommideadeoye@gmail.com\", \"itimileyin47@gmail.com\"]\n",
    "url =\"https://p2p.binance.com/en/trade/sell/USDT?fiat=NGN&payment=ALL\"\n",
    "# # usdt_dollar_wise = getExchangeRate(\"https://p2p.binance.com/en/trade/Wise/USDT?fiat=USD\")"
   ]
  },
  {
   "cell_type": "code",
   "execution_count": 3,
   "metadata": {},
   "outputs": [],
   "source": [
    "def transactionExecutor():\n",
    "    print(\"Black Market Naira: 746.62\")\n",
    "    print(\"Sending to target account...\")\n",
    "    return None\n"
   ]
  },
  {
   "cell_type": "code",
   "execution_count": 4,
   "metadata": {},
   "outputs": [
    {
     "ename": "ZeroDivisionError",
     "evalue": "division by zero",
     "output_type": "error",
     "traceback": [
      "\u001b[0;31m---------------------------------------------------------------------------\u001b[0m",
      "\u001b[0;31mZeroDivisionError\u001b[0m                         Traceback (most recent call last)",
      "Cell \u001b[0;32mIn [4], line 13\u001b[0m\n\u001b[1;32m      8\u001b[0m     \u001b[39mreturn\u001b[39;00m \u001b[39msum\u001b[39m(prices)\u001b[39m/\u001b[39m\u001b[39mlen\u001b[39m(prices)\n\u001b[1;32m     10\u001b[0m \u001b[39m# for subscriber in subscribers:\u001b[39;00m\n\u001b[1;32m     11\u001b[0m     \u001b[39m# send_email(subscriber, \"Black Market Exchange Rate\", exchangeData, [])\u001b[39;00m\n\u001b[0;32m---> 13\u001b[0m \u001b[39mprint\u001b[39m(\u001b[39mf\u001b[39m\u001b[39m\"\u001b[39m\u001b[39mBlack Market Naira: \u001b[39m\u001b[39m{\u001b[39;00mgetExchangeRate(url)\u001b[39m.\u001b[39m\u001b[39m__round__\u001b[39m(\u001b[39m2\u001b[39m)\u001b[39m}\u001b[39;00m\u001b[39m\"\u001b[39m)\n",
      "Cell \u001b[0;32mIn [4], line 8\u001b[0m, in \u001b[0;36mgetExchangeRate\u001b[0;34m(target)\u001b[0m\n\u001b[1;32m      6\u001b[0m \u001b[39mfor\u001b[39;00m offering \u001b[39min\u001b[39;00m offerings:\n\u001b[1;32m      7\u001b[0m     prices\u001b[39m.\u001b[39mappend(\u001b[39mfloat\u001b[39m(offering\u001b[39m.\u001b[39mtext))\n\u001b[0;32m----> 8\u001b[0m \u001b[39mreturn\u001b[39;00m \u001b[39msum\u001b[39;49m(prices)\u001b[39m/\u001b[39;49m\u001b[39mlen\u001b[39;49m(prices)\n",
      "\u001b[0;31mZeroDivisionError\u001b[0m: division by zero"
     ]
    }
   ],
   "source": [
    "# get exchange rate\n",
    "def getExchangeRate(target): # returns the exchange rate of the target currency\n",
    "    soup = tomide_bs4_make_soup(target, 10,  \"incognito\", False)\n",
    "    offerings = soup.find_all(\"div\", {\"class\": \"css-1m1f8hn\"})\n",
    "    prices = []\n",
    "    for offering in offerings:\n",
    "        prices.append(float(offering.text))\n",
    "    return sum(prices)/len(prices)\n",
    "\n",
    "# for subscriber in subscribers:\n",
    "    # send_email(subscriber, \"Black Market Exchange Rate\", exchangeData, [])\n",
    "\n",
    "print(f\"Black Market Naira: {getExchangeRate(url).__round__(2)}\")"
   ]
  },
  {
   "cell_type": "code",
   "execution_count": 31,
   "metadata": {},
   "outputs": [
    {
     "name": "stdout",
     "output_type": "stream",
     "text": [
      "Black Market Naira: 746.62\n",
      "Sending to target account...\n"
     ]
    }
   ],
   "source": [
    "transactionExecutor()"
   ]
  },
  {
   "cell_type": "code",
   "execution_count": null,
   "metadata": {},
   "outputs": [],
   "source": []
  }
 ],
 "metadata": {
  "kernelspec": {
   "display_name": "Python 3.9.15 ('venv': venv)",
   "language": "python",
   "name": "python3"
  },
  "language_info": {
   "codemirror_mode": {
    "name": "ipython",
    "version": 3
   },
   "file_extension": ".py",
   "mimetype": "text/x-python",
   "name": "python",
   "nbconvert_exporter": "python",
   "pygments_lexer": "ipython3",
   "version": "3.9.15"
  },
  "orig_nbformat": 4,
  "vscode": {
   "interpreter": {
    "hash": "fdc41f0eadf12055021ad23f87a8a9ee8e96f5c00b057f56ee298e5db47363e5"
   }
  }
 },
 "nbformat": 4,
 "nbformat_minor": 2
}
