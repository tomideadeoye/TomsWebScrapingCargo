{
 "cells": [
  {
   "cell_type": "markdown",
   "metadata": {},
   "source": [
    "#web scraping thingy "
   ]
  },
  {
   "cell_type": "code",
   "execution_count": 133,
   "metadata": {},
   "outputs": [],
   "source": [
    "# [\"type\", \"beds\", \"price\", \"location\", \"url\", \"aquisition\", \"contact\", \"duration\", \"furnished\", \"serviced\", \"imageurl\"] //compare rent vs buy(month v day), should I buy/recommeded\n",
    "# paginationSelector = soup.find('div', class_='pagination-area').nav.ul.findAll('li')[3].a['href']\n",
    "# paginationSelector"
   ]
  },
  {
   "cell_type": "code",
   "execution_count": 5,
   "metadata": {},
   "outputs": [],
   "source": [
    "from urllib.request import Request, urlopen\n",
    "from bs4 import BeautifulSoup\n",
    "from bs4.element import Comment\n",
    "import re\n",
    "import csv\n",
    "import json\n",
    "import pandas as pd"
   ]
  },
  {
   "cell_type": "code",
   "execution_count": 2,
   "metadata": {},
   "outputs": [],
   "source": [
    "\n",
    "def getPageData(url):\n",
    "    property =  0\n",
    "\n",
    "    req = Request(url , headers={'User-Agent': 'Mozilla/5.0'})\n",
    "    webpage = urlopen(req).read()\n",
    "    soup = BeautifulSoup(webpage, 'html.parser')   \n",
    "    listing_property = soup.find_all(\"div\", class_='listings-property')\n",
    "    data = []\n",
    "\n",
    "    for i in listing_property:\n",
    "        if \"sponsored-listing\" in i[\"class\"]:\n",
    "            listing_property.remove(i)\n",
    "        else:\n",
    "            property = listing_property.index(i)\n",
    "            amenities = listing_property[property].find('div', class_='fur-areea').findAll(\"span\", recursive=False)\n",
    "            beds = amenities[0].text[0:1]\n",
    "            bathrooms = amenities[1].text[0:1]\n",
    "            toilets = amenities[2].text[0:1]\n",
    "            if beds == \"0\" or beds == 0 or beds == \"\":\n",
    "                break\n",
    "            if bathrooms == \"0\" or bathrooms == 0 or bathrooms == \"\":\n",
    "                break\n",
    "            if toilets == \"0\" or toilets == 0 or toilets == \"\":\n",
    "                break\n",
    "            agentContact = re.sub(\"[\\n ]\", \"\", listing_property[property].find('div', class_='phone-icon').text)\n",
    "            listingTitile = listing_property[property].find('h3', class_='listings-property-title2').text\n",
    "            listingURL = \"https://www.propertypro.ng\" + listing_property[property].find(\"div\", \"result-img\").a['href']\n",
    "            price = ''.join(re.findall(r'\\d+', listing_property[property].find('h3', class_='listings-price').text))\n",
    "            location = listing_property[property].find('div', class_='result-img').a.img['alt'].split(' ')\n",
    "            street = \" \".join(listing_property[property].find('div', class_='single-room-text').findAll(\"h4\")[1].text.split(' ')[ : -2])\n",
    "            if street == \"\":\n",
    "                street = \"unstated\"\n",
    "            city = location[-2]\n",
    "            state = location[-1]\n",
    "            try:\n",
    "                status = str(re.sub(\"[\\n]\", \"\", listing_property[4].find('div', class_='furnished-btn').text))\n",
    "                if status == \"\":\n",
    "                    status = \"old\"\n",
    "            except: \n",
    "                status = \"old\"\n",
    "            try:\n",
    "                dateUpdated = \" \".join(listing_property[property].find('div', class_='single-room-text').find(\"h5\").text.split()[-3 :])\n",
    "            except:\n",
    "                dateUpdated = \"not stated\"\n",
    "            try:\n",
    "                imagesProvided =  re.sub(\"[\\n ]\", \"\", listing_property[property].find('div', class_='room-icons').text)\n",
    "            except:\n",
    "                imagesProvided = 3 \n",
    "            data.append([listingTitile, price, bathrooms, beds, toilets, street, city, state, status, agentContact, imagesProvided, listingURL, dateUpdated])\n",
    "    return data\n"
   ]
  },
  {
   "cell_type": "code",
   "execution_count": null,
   "metadata": {},
   "outputs": [],
   "source": [
    "numIterations = 300\n",
    "startingUrl = \"https://www.propertypro.ng/property-for-rent/house/?search=&auto=&bedroom=&min_price=&max_price=\"\n",
    "data = []\n",
    "\n",
    "for pageNum  in range(numIterations):\n",
    "    if pageNum == 0:\n",
    "        url = startingUrl\n",
    "    else:\n",
    "        url =  startingUrl + \"&page=\" + str(pageNum)\n",
    "    try: \n",
    "        searchResult = getPageData(url)\n",
    "        data = data + searchResult\n",
    "        print(pageNum)\n",
    "    except Exception as e:\n",
    "        print(pageNum, e)"
   ]
  },
  {
   "cell_type": "code",
   "execution_count": 4,
   "metadata": {},
   "outputs": [],
   "source": [
    "# WRITE DATA TO CSV FILE\n",
    "header =[\"listingTitile\", \"price\", \"bathrooms\", \"beds\", \"toilets\", \"street\", \"city\", \"state\", \"status\", \"agentContact\", \"imagesProvided\", \"listingURL\", \"dateUpdated\"]\n",
    "# header = [listingTitile\",\" price\",\" bathrooms\",\" beds\", \"toilets\", \"street\", \"city\", \"state\", \"status\", \"agentContact\", \"imagesProvided\", \"listingURL\", \"dateUpdated\"]\n",
    "with open('HouseRent6.csv', 'w', encoding='UTF8') as csvfile:\n",
    "    writer = csv.writer(csvfile, delimiter=',')\n",
    "    writer.writerow(header)\n",
    "    for i in data:\n",
    "        writer.writerow(i)"
   ]
  },
  {
   "cell_type": "code",
   "execution_count": 6,
   "metadata": {},
   "outputs": [],
   "source": [
    "propertyForSale = pd.read_csv(\"ScrapedSalePropertyDataSet.csv\")\n",
    "propertyForRent = pd.read_csv(\"ScrapedRentalDataSet.csv\")"
   ]
  },
  {
   "cell_type": "code",
   "execution_count": 14,
   "metadata": {},
   "outputs": [],
   "source": [
    "req = Request(\"https://www.propertypro.ng/property-for-sale?search=&auto=&type=&bedroom=&min_price=&max_price=\" , headers={'User-Agent': 'Mozilla/5.0'})\n",
    "webpage = urlopen(req).read()\n",
    "soup = BeautifulSoup(webpage, 'html.parser')   \n",
    "listing_property = soup.find_all(\"div\", class_='listings-property')\n",
    "for i in listing_property:\n",
    "    if \"sponsored-listing\" in i[\"class\"]:\n",
    "        listing_property.remove(i)"
   ]
  },
  {
   "cell_type": "code",
   "execution_count": 6,
   "metadata": {},
   "outputs": [],
   "source": [
    "# CREATE DATAFRAME\n",
    "header =[\"listingTitile\", \"price\", \"bathrooms\", \"beds\", \"toilets\", \"street\", \"city\", \"state\", \"status\", \"agentContact\", \"imagesProvided\", \"listingURL\", \"dateUpdated\"]\n",
    "df = pd.DataFrame(data=data, columns=header)\n",
    "df.to_json (r'propertyproData' , orient='records',)\n",
    "df.head()"
   ]
  },
  {
   "cell_type": "code",
   "execution_count": 7,
   "metadata": {},
   "outputs": [
    {
     "data": {
      "text/html": [
       "<div>\n",
       "<style scoped>\n",
       "    .dataframe tbody tr th:only-of-type {\n",
       "        vertical-align: middle;\n",
       "    }\n",
       "\n",
       "    .dataframe tbody tr th {\n",
       "        vertical-align: top;\n",
       "    }\n",
       "\n",
       "    .dataframe thead th {\n",
       "        text-align: right;\n",
       "    }\n",
       "</style>\n",
       "<table border=\"1\" class=\"dataframe\">\n",
       "  <thead>\n",
       "    <tr style=\"text-align: right;\">\n",
       "      <th></th>\n",
       "      <th>listingTitile</th>\n",
       "      <th>price</th>\n",
       "      <th>bathrooms</th>\n",
       "      <th>beds</th>\n",
       "      <th>toilets</th>\n",
       "      <th>street</th>\n",
       "      <th>city</th>\n",
       "      <th>state</th>\n",
       "      <th>status</th>\n",
       "      <th>agentContact</th>\n",
       "      <th>imagesProvided</th>\n",
       "      <th>listingURL</th>\n",
       "      <th>dateUpdated</th>\n",
       "    </tr>\n",
       "  </thead>\n",
       "  <tbody>\n",
       "    <tr>\n",
       "      <th>0</th>\n",
       "      <td>Newly Renovated &amp; Spacious 4bedoom Duplex (no ...</td>\n",
       "      <td>5000000</td>\n",
       "      <td>5</td>\n",
       "      <td>4</td>\n",
       "      <td>5</td>\n",
       "      <td>Adeniran Ogunsanya</td>\n",
       "      <td>Surulere</td>\n",
       "      <td>Lagos</td>\n",
       "      <td>Newly Built</td>\n",
       "      <td>08167742895</td>\n",
       "      <td>20</td>\n",
       "      <td>https://www.propertypro.ng/property/4-bedroom-...</td>\n",
       "      <td>12 Jul 2022</td>\n",
       "    </tr>\n",
       "    <tr>\n",
       "      <th>1</th>\n",
       "      <td>4 Bedroom Semi Detached For Rent</td>\n",
       "      <td>6500000</td>\n",
       "      <td>5</td>\n",
       "      <td>4</td>\n",
       "      <td>5</td>\n",
       "      <td>Osapa London</td>\n",
       "      <td>Lekki</td>\n",
       "      <td>Lagos</td>\n",
       "      <td>Newly Built</td>\n",
       "      <td>09035137760</td>\n",
       "      <td>9</td>\n",
       "      <td>https://www.propertypro.ng/property/4-bedroom-...</td>\n",
       "      <td>12 Jul 2022</td>\n",
       "    </tr>\n",
       "    <tr>\n",
       "      <th>2</th>\n",
       "      <td>Newly Built 4 Bedroom Terrace Duplex</td>\n",
       "      <td>6000000</td>\n",
       "      <td>4</td>\n",
       "      <td>4</td>\n",
       "      <td>5</td>\n",
       "      <td>Lekki Phase 1</td>\n",
       "      <td>Lekki</td>\n",
       "      <td>Lagos</td>\n",
       "      <td>Newly Built</td>\n",
       "      <td>07047998445</td>\n",
       "      <td>9</td>\n",
       "      <td>https://www.propertypro.ng/property/4-bedroom-...</td>\n",
       "      <td>05 May 2022</td>\n",
       "    </tr>\n",
       "    <tr>\n",
       "      <th>3</th>\n",
       "      <td>4 Bedroom Semi Detached Duplex</td>\n",
       "      <td>6500000</td>\n",
       "      <td>5</td>\n",
       "      <td>4</td>\n",
       "      <td>5</td>\n",
       "      <td>Ologolo</td>\n",
       "      <td>Lekki</td>\n",
       "      <td>Lagos</td>\n",
       "      <td>Newly Built</td>\n",
       "      <td>09035137760</td>\n",
       "      <td>10</td>\n",
       "      <td>https://www.propertypro.ng/property/4-bedroom-...</td>\n",
       "      <td>11 Jul 2022</td>\n",
       "    </tr>\n",
       "    <tr>\n",
       "      <th>4</th>\n",
       "      <td>4 Bedroom Terrace Apartment</td>\n",
       "      <td>6000000</td>\n",
       "      <td>5</td>\n",
       "      <td>4</td>\n",
       "      <td>5</td>\n",
       "      <td>Spar Road Just By House On The Rock And Nicon ...</td>\n",
       "      <td>Lekki</td>\n",
       "      <td>Lagos</td>\n",
       "      <td>Newly Built</td>\n",
       "      <td>09035137760</td>\n",
       "      <td>9</td>\n",
       "      <td>https://www.propertypro.ng/property/4-bedroom-...</td>\n",
       "      <td>11 Jul 2022</td>\n",
       "    </tr>\n",
       "  </tbody>\n",
       "</table>\n",
       "</div>"
      ],
      "text/plain": [
       "                                       listingTitile    price bathrooms beds  \\\n",
       "0  Newly Renovated & Spacious 4bedoom Duplex (no ...  5000000         5    4   \n",
       "1                   4 Bedroom Semi Detached For Rent  6500000         5    4   \n",
       "2               Newly Built 4 Bedroom Terrace Duplex  6000000         4    4   \n",
       "3                     4 Bedroom Semi Detached Duplex  6500000         5    4   \n",
       "4                        4 Bedroom Terrace Apartment  6000000         5    4   \n",
       "\n",
       "  toilets                                             street      city  state  \\\n",
       "0       5                                 Adeniran Ogunsanya  Surulere  Lagos   \n",
       "1       5                                       Osapa London     Lekki  Lagos   \n",
       "2       5                                      Lekki Phase 1     Lekki  Lagos   \n",
       "3       5                                            Ologolo     Lekki  Lagos   \n",
       "4       5  Spar Road Just By House On The Rock And Nicon ...     Lekki  Lagos   \n",
       "\n",
       "        status agentContact imagesProvided  \\\n",
       "0  Newly Built  08167742895             20   \n",
       "1  Newly Built  09035137760              9   \n",
       "2  Newly Built  07047998445              9   \n",
       "3  Newly Built  09035137760             10   \n",
       "4  Newly Built  09035137760              9   \n",
       "\n",
       "                                          listingURL  dateUpdated  \n",
       "0  https://www.propertypro.ng/property/4-bedroom-...  12 Jul 2022  \n",
       "1  https://www.propertypro.ng/property/4-bedroom-...  12 Jul 2022  \n",
       "2  https://www.propertypro.ng/property/4-bedroom-...  05 May 2022  \n",
       "3  https://www.propertypro.ng/property/4-bedroom-...  11 Jul 2022  \n",
       "4  https://www.propertypro.ng/property/4-bedroom-...  11 Jul 2022  "
      ]
     },
     "execution_count": 7,
     "metadata": {},
     "output_type": "execute_result"
    }
   ],
   "source": []
  },
  {
   "cell_type": "code",
   "execution_count": 1,
   "metadata": {},
   "outputs": [],
   "source": [
    "phone_array = [8037939912, 8037939912, 8038024880, 8038123030, 8038125965, 8038125965, 8038359282, 8038359282, 8038389084, 8038479985, 8038592381, 8039220606, 8050383215, 8050494374, 8050494374, 8053979149, 8053979149, 8053979149, 8053979149, 8053979149, 8053979149, 8053979149, 8053979149, 8053979149, 8054797512, 8055652402, 8056267437, 8056267437, 8056267437, 8056267437, 8056267437, 8056267437, 8057022131, 8057022131, 8059149400, 8060140819, 8060283193, 8060283193, 8060283193, 8060623971, 8061641323, 8061641323, 8061987440, 8061987440, 8061987440, 8061987440, 8061987440, 8061987440, 8062345097, 8062345097, 8062345097, 8062345097, 8062345097, 8062391186, 8062529809, 8062529809, 8062529809, 8062881764, 8063768619, 8064323103, 8064537923, 8065305104, 8065305104, 8065329702, 8065558146, 8065795091, 8065795091, 8065795091, 8065795091, 8065795091, 8065795091, 8065795091, 8066392132, 8066627552, 8066627552, 8066627552, 8066627552, 8067081484, 8067081484, 8067081484, 8067081484, 8067081484, 8067741227, 8067992859, 8067992859, 8068361629, 8069566040, 8069566040, 8072800567, 8075711336, 8076508977, 8076508977, 8076508977, 8076508977, 8076508977, 8077738880, 8077738880, 8080564797, 8081501656, 8082163583, 8082163583, 8082163583, 8082163583, 8082163583, 8082163583, 8082163583, 8082163583, 8082163583, 8082163583, 8082163583, 8082163583, 8082163583, 8082163583, 8082163583, 8082163583, 8082163583, 8082163583, 8082163583, 8082163583, 8082163583, 8082163583, 8082163583, 8082163583, 8082163583, 8082163583, 8082163583, 8082163583, 8082163583, 8082163583, 8082163583, 8082163583, 8082163583, 8082163583, 8082163583, 8082163583, 8082163583, 8082163583, 8082163583, 8082163583, 8082163583, 8082163583, 8082163583, 8082163583, 8082163583, 8082163583, 8082163583, 8082163583, 8082821053, 8083241498, 8086267650, 8089633335, 8089633335, 8089633335, 8093708615, 8093708615, 8094163102, 8094163102, 8095996837, 8097100871, 8099275848, 8099275848, 8099275848, 8100073388, 8100073388, 8100073388, 8100073388, 8100694574, 8100694574, 8104717713, 8105605371, 8106600637, 8106600637, 8106600637, 8106600637, 8106600637, 8106600637, 8106600637, 8106600637, 8106600637, 8106600637, 8106600637, 8106600637, 8106600637, 8106600637, 8106600637, 8106600637, 8106600637, 8106600637, 8106600637, 8111113467, 8111113467, 8111113467, 8111113467, 8111888039, 8112095650, 8114892643, 8114892643, 8114892643, 8114892643, 8114892643, 8114892643, 8114892643, 8114892643, 8115380597, 8117248757, 8117340933, 8117340933, 8117340933, 8117340933, 8117340933, 8117340933, 8117340933, 8117340933, 8117340933, 8117340933, 8119470091, 8120765101, 8120765101, 8121377323, 8121377323, 8122986390, 8124031574, 8124031574, 8124031574, 8124031574, 8124269637, 8124269637, 8124269637, 8124269637, 8124269637, 8124269637, 8124269637, 8124269637, 8124269637, 8124269637, 8124269637, 8124269637, 8124269637, 8124269637, 8124269637, 8124269637, 8124269637, 8124269637, 8124269637, 8124269637, 8124269637, 8124269637, 8124269637, 8124269637, 8124269637, 8124269637, 8124269637, 8124269637, 8124269637, 8124269637, 8124269637, 8124269637, 8124269637, 8124269637, 8124269637, 8124269637, 8126759308, 8130263266, 8130986430, 8131315389, 8131315389, 8132415332, 8133154602, 8133194443, 8133194443, 8133194443, 8133194443, 8133194443, 8133419582, 8136670481, 8136670481, 8136670481, 8136670481, 8137377290, 8137377290, 8137377290, 8137584753, 8138248835, 8138310553, 8138800178, 8138800178, 8138800178, 8138805351, 8138805351, 8139265236, 8139265236, 8139265236, 8139265236, 8139265236, 8139265236, 8139265236, 8139265236, 8139635919, 8139635919, 8139635919, 8142223792, 8143129775, 8143129775, 8143129775, 8143129775, 8143129775, 8143129775, 8143129775, 8143129775, 8143129775, 8147562407, 8147562407, 8147562407, 8147562407, 8147562407, 8147747114, 8147747114, 8147747114, 8147747114, 8147747114, 8147747114, 8147747114, 8147747114, 8148211572, 8148211572, 8148211572, 8148211572, 8148495671, 8148495671, 8148495671, 8148495671, 8148495671, 8148495671, 8148495671, 8148495671, 8148495671, 8148495671, 8149249272, 8153985682, 8155321626, 8160442385, 8160442385, 8160442385, 8160442385, 8160442385, 8160442385, 8160442385, 8160772746, 8163569554, 8163569554, 8164687732, 8164687732, 8164687732, 8164687732, 8164687732, 8164687732, 8164687732, 8164687732, 8164968133, 8164968133, 8164968133, 8164968133, 8164968133, 8164968133, 8165277357, 8166553629, 8166745180, 8166851351, 8167383898, 8167383898, 8167383898, 8167383898, 8167383898, 8167742895, 8167742895, 8167742895, 8167742895, 8167742895, 8167978798, 8168064058, 8168064058, 8168064058, 8168064058, 8168064058, 8168064058, 8168064058, 8168064058, 8168064058, 8168064058, 8168064058, 8169790456, 8169790456, 8177400441, 8177400441, 8177400441, 8177400441, 8177400441, 8177766115, 8177766115, 8177766115, 8177766550, 8177766550, 8180249383, 8181251091, 8181251091, 8182073205, 8182073205, 8182073205, 8182911042, 8182911042, 8182911042, 8184412041, 8184412041, 8185551251, 8185551251, 8185551251, 8185551251, 8185551251, 8185551251, 8185551251, 8185551251, 8186969203, 8186969203, 8186969203, 9013619321, 9013619321, 9014004443, 9019001143, 9019001143, 9019001143, 9019001143, 9023730900, 9023730900, 9023730900, 9023730900, 9023730900, 9023730900, 9026318426, 9026318426, 9026318426, 9026318426, 9026318426, 9026318426, 9026318426, 9026318426, 9026318426, 9029604948, 9029604948, 9029604948, 9029604948, 9029604948, 9030097979, 9034504273, 9034504273, 9034504273, 9034504273, 9034504273, 9034504273, 9035137760, 9035137760, 9035137760, 9035137760, 9035137760, 9035137760, 9035137760, 9035137760, 9035137760, 9035137760, 9035137760, 9035137760, 9035137760, 9035137760, 9035137760, 9035137760, 9035137760, 9035137760, 9035137760, 9035137760, 9035137760, 9035137760, 9035137760, 9035137760, 9035137760, 9035137760, 9035137760, 9035137760, 9035137760, 9035137760, 9035137760, 9035137760, 9035137760, 9035137760, 9035137760, 9035137760, 9035137760, 9035137760, 9035137760, 9035137760, 9035137760, 9035137760, 9035137760, 9035137760, 9035137760, 9035137760, 9035137760, 9035137760, 9041150803, 9041150803, 9041150803, 9041150803, 9041150803, 9041150803, 9044442244, 9045982770, 9045982770, 9045982770, 9045982770, 9045982770, 9045982770, 9045982770, 9050518082, 9050518082, 9050518082, 9050857650, 9050857650, 9053588424, 9053588424, 9053588424, 9053588424, 9053588424, 9053588424, 9053588424, 9053588424, 9053588424, 9055294872, 9055794120, 9055794120, 9055794120, 9056267480, 9056267480, 9056267480, 9056267480, 9056267480, 9056267480, 9056267480, 9058645473, 9061500067, 9061623299, 9061623299, 9061623299, 9061623299, 9064090448, 9064090448, 9067320607, 9067320607, 9067320607, 9067320607, 9067320607, 9067320607, 9069656035, 9070732024, 9070732024, 9071394259, 9071394259, 9071394259, 9071767938, 9071767938, 9074162101, 9075318146, 9079005774, 9079005774, 9080088779, 9080088779, 9080088779, 9080088779, 9080088779, 9080088779, 9080088779, 9081104133, 9083616685, 9085096183, 9085096183, 9085096183, 9087744002, 9090090450, 9090090450, 9090407416, 9096807820, 9098077985, 9098077985, 9099980793, 9121180993, 9121180993, 9121180993, 9121180993, 9124604075, 9124604075, 9131636829, 9168011083, 9168011083, 9168011083, 9168011083, 9168011083, 9168011083, 9168011083, 9168011083, 9168011083, 9168011083, 9168011083, 90902999998, 90902999998]"
   ]
  },
  {
   "cell_type": "code",
   "execution_count": 2,
   "metadata": {},
   "outputs": [],
   "source": [
    "phone_array2 = [ '0' + str( item) for item in phone_array ] # remove empty strings from the list"
   ]
  },
  {
   "cell_type": "code",
   "execution_count": 8,
   "metadata": {},
   "outputs": [
    {
     "name": "stdout",
     "output_type": "stream",
     "text": [
      "611\n"
     ]
    }
   ],
   "source": [
    "phone_array2\n",
    "\n",
    "print(len (phone_array2))\n",
    "\n",
    "\n",
    "# unique values in the list\n",
    "\n",
    "unique_phone_array = list( set (phone_array2))"
   ]
  },
  {
   "cell_type": "code",
   "execution_count": 13,
   "metadata": {},
   "outputs": [],
   "source": [
    "unique_phone_array\n",
    "\n",
    "\n",
    "with open(\"output.txt\", \"w\") as txt_file:\n",
    "    for line in unique_phone_array:\n",
    "        txt_file.write(\" \".join(line) + \"\\n\") # works with any number of elements\n",
    "\n"
   ]
  },
  {
   "cell_type": "code",
   "execution_count": null,
   "metadata": {},
   "outputs": [],
   "source": []
  }
 ],
 "metadata": {
  "kernelspec": {
   "display_name": "Python 3.9.13 64-bit",
   "language": "python",
   "name": "python3"
  },
  "language_info": {
   "codemirror_mode": {
    "name": "ipython",
    "version": 3
   },
   "file_extension": ".py",
   "mimetype": "text/x-python",
   "name": "python",
   "nbconvert_exporter": "python",
   "pygments_lexer": "ipython3",
   "version": "3.10.8"
  },
  "orig_nbformat": 4,
  "vscode": {
   "interpreter": {
    "hash": "b0fa6594d8f4cbf19f97940f81e996739fb7646882a419484c72d19e05852a7e"
   }
  }
 },
 "nbformat": 4,
 "nbformat_minor": 2
}
