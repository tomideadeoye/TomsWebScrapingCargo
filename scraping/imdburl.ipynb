{
 "cells": [
  {
   "cell_type": "markdown",
   "metadata": {},
   "source": [
    "#web scraping thingy "
   ]
  },
  {
   "cell_type": "code",
   "execution_count": 1,
   "metadata": {},
   "outputs": [
    {
     "data": {
      "text/plain": [
       "'\\n# return all div elements with a class attribute containing the text \\'listing-col-\\':\\nfor EachPart in soup.select(\\'div[class*=\"listing-col-\"]\\'):\\n    print EachPart.get_text()\\n\\n\\nmono@jobs.workablemail.com\\nhttps://futureafricanew.bamboohr.com/jobs/\\n'"
      ]
     },
     "execution_count": 1,
     "metadata": {},
     "output_type": "execute_result"
    }
   ],
   "source": [
    "# [\"type\", \"beds\", \"price\", \"location\", \"url\", \"aquisition\", \"contact\", \"duration\", \"furnished\", \"serviced\", \"imageurl\"] //compare rent vs buy(month v day), should I buy/recommeded\n",
    "# paginationSelector = soup.find('div', class_='pagination-area').nav.ul.findAll('li')[3].a['href']\n",
    "# paginationSelector\n",
    "\n",
    "'''\n",
    "# return all div elements with a class attribute containing the text 'listing-col-':\n",
    "for EachPart in soup.select('div[class*=\"listing-col-\"]'):\n",
    "    print EachPart.get_text()\n",
    "\n",
    "\n",
    "mono@jobs.workablemail.com\n",
    "https://futureafricanew.bamboohr.com/jobs/\n",
    "https://sharainc.bamboohr.com/careers\n",
    "'''\n"
   ]
  },
  {
   "cell_type": "code",
   "execution_count": 7,
   "metadata": {},
   "outputs": [],
   "source": [
    "# activate virtual environment\n",
    "# source  ./venv/bin/activate"
   ]
  },
  {
   "cell_type": "code",
   "execution_count": 1,
   "metadata": {},
   "outputs": [],
   "source": [
    "# !pip install selenium\n",
    "from urllib.request import Request, urlopen\n",
    "from bs4 import BeautifulSoup\n",
    "from bs4.element import Comment\n",
    "import re\n",
    "import json\n",
    "import pandas as pd\n",
    "from selenium import webdriver\n",
    "from selenium.webdriver.common.keys import Keys\n",
    "import time\n",
    "import numpy as np"
   ]
  },
  {
   "cell_type": "code",
   "execution_count": 9,
   "metadata": {},
   "outputs": [
    {
     "name": "stdout",
     "output_type": "stream",
     "text": [
      "/Users/tomideisawesome/Documents/GitHub/TomsWebScrapingCargo/scraping\n"
     ]
    }
   ],
   "source": [
    "starting_url = \"https://www.imdb.com/search/title/?release_date=2018-01-01,2018-12-31&sort=num_votes,desc&start=51&ref_=adv_nxt\""
   ]
  },
  {
   "cell_type": "markdown",
   "metadata": {},
   "source": [
    "# Released between 2018-01-01 and 2018-12-31"
   ]
  },
  {
   "cell_type": "code",
   "execution_count": 5,
   "metadata": {},
   "outputs": [],
   "source": [
    "def tom_bs4_make_soup(url, duration = 0):\n",
    "    driver = webdriver.Chrome('./chromedriver') \n",
    "    driver.get(url)\n",
    "    time.sleep(duration)     \n",
    "    html = driver.page_source\n",
    "    soup = BeautifulSoup(html, 'html.parser')\n",
    "    driver.close()  \n",
    "    return soup"
   ]
  },
  {
   "cell_type": "code",
   "execution_count": 6,
   "metadata": {},
   "outputs": [
    {
     "name": "stderr",
     "output_type": "stream",
     "text": [
      "/var/folders/yt/r5vqk9zd7f35c460q8mztp2w0000gn/T/ipykernel_1184/1866916245.py:2: DeprecationWarning: executable_path has been deprecated, please pass in a Service object\n",
      "  driver = webdriver.Chrome('./chromedriver')\n"
     ]
    },
    {
     "name": "stdout",
     "output_type": "stream",
     "text": [
      "{'job_title': 'Head of Finance', 'job_location': 'Remote - London, Amsterdam, Dubai, Capetown', 'job_url': 'https://boards.greenhouse.io/paystack/jobs/5942405002', 'company_name': 'Paystack'}\n",
      "{'job_title': 'Sales Associate, South Africa', 'job_location': 'South Africa', 'job_url': 'https://boards.greenhouse.io/paystack/jobs/6369979002', 'company_name': 'Paystack'}\n",
      "{'job_title': 'Sales Manager, Ghana', 'job_location': 'Ghana', 'job_url': 'https://boards.greenhouse.io/paystack/jobs/6368324002', 'company_name': 'Paystack'}\n",
      "{'job_title': 'Technical Product Specialist', 'job_location': 'South Africa', 'job_url': 'https://boards.greenhouse.io/paystack/jobs/5960095002', 'company_name': 'Paystack'}\n",
      "{'job_title': 'Product Specialist, Ghana', 'job_location': 'Ghana', 'job_url': 'https://boards.greenhouse.io/paystack/jobs/6391951002', 'company_name': 'Paystack'}\n",
      "{'job_title': 'Product Specialist - Nigeria', 'job_location': 'Lagos, Nigeria', 'job_url': 'https://boards.greenhouse.io/paystack/jobs/4318459002', 'company_name': 'Paystack'}\n",
      "{'job_title': 'Demand Gen Marketer (South Africa)', 'job_location': 'South Africa', 'job_url': 'https://boards.greenhouse.io/paystack/jobs/6297932002', 'company_name': 'Paystack'}\n",
      "{'job_title': 'User Operations Specialist', 'job_location': 'South Africa', 'job_url': 'https://boards.greenhouse.io/paystack/jobs/5939440002', 'company_name': 'Paystack'}\n",
      "Head of Finance Remote - London, Amsterdam, Dubai, Capetown https://boards.greenhouse.io/paystack/jobs/5942405002 Paystack\n",
      "Sales Associate, South Africa South Africa https://boards.greenhouse.io/paystack/jobs/6369979002 Paystack\n",
      "Sales Manager, Ghana Ghana https://boards.greenhouse.io/paystack/jobs/6368324002 Paystack\n",
      "Technical Product Specialist South Africa https://boards.greenhouse.io/paystack/jobs/5960095002 Paystack\n",
      "Product Specialist, Ghana Ghana https://boards.greenhouse.io/paystack/jobs/6391951002 Paystack\n",
      "Product Specialist - Nigeria Lagos, Nigeria https://boards.greenhouse.io/paystack/jobs/4318459002 Paystack\n",
      "Demand Gen Marketer (South Africa) South Africa https://boards.greenhouse.io/paystack/jobs/6297932002 Paystack\n",
      "User Operations Specialist South Africa https://boards.greenhouse.io/paystack/jobs/5939440002 Paystack\n"
     ]
    }
   ],
   "source": [
    "\n",
    "url = \"\"\"https://boards.greenhouse.io/paystack/\"\"\"\n",
    "base_url = \"https://boards.greenhouse.io\"\n",
    "parent_job_list = []\n",
    "\n",
    "def getPageData(url):\n",
    "    soup = tom_bs4_make_soup(url, 10)\n",
    "    companyLogo = soup.find('div', id='logo').img['src']\n",
    "    companyName = soup.find('h1').text\n",
    "    companyDetails = soup.find('div', id='content').get_text(strip=True)\n",
    "    jobs = soup.find_all('div', class_='opening') \n",
    "    for job in jobs:\n",
    "        jobTitle = job.find('a').text\n",
    "        jobLocation = job.find('span', class_='location').text\n",
    "        jobUrl = job.find('a')['href']\n",
    "        parent_job_list.append({\n",
    "            'job_title': jobTitle,\n",
    "            'job_location': jobLocation,\n",
    "            \"job_url\": base_url + jobUrl,\n",
    "            'company_name' : companyName,\n",
    "        })\n",
    "        print(parent_job_list[-1])\n",
    "        \n",
    "getPageData(url)\n",
    "\n",
    "for i in parent_job_list:\n",
    "    print(i.get('job_title'), i.get('job_location'), i.get('job_url'), i.get('company_name'))"
   ]
  },
  {
   "cell_type": "markdown",
   "metadata": {},
   "source": [
    "# CRYPTOCURRENCY JOBS"
   ]
  },
  {
   "cell_type": "code",
   "execution_count": 7,
   "metadata": {},
   "outputs": [
    {
     "name": "stderr",
     "output_type": "stream",
     "text": [
      "/var/folders/yt/r5vqk9zd7f35c460q8mztp2w0000gn/T/ipykernel_1184/1866916245.py:2: DeprecationWarning: executable_path has been deprecated, please pass in a Service object\n",
      "  driver = webdriver.Chrome('./chromedriver')\n"
     ]
    },
    {
     "name": "stdout",
     "output_type": "stream",
     "text": [
      "https://cryptocurrencyjobs.co/engineering/\n"
     ]
    }
   ],
   "source": [
    "\n",
    "collection_list = [\"product/\", \"sales/\", \"operations/\", \"non-tech/\", \"marketing/\", \"finance/\", \"engineering/\", \"other/\", \"entry-level\", ]\n",
    "url = \"https://cryptocurrencyjobs.co/\" + collection_list[6]\n",
    "currentSoup = tom_bs4_make_soup(url, 10)\n",
    "def unique(list1):\n",
    "    unique_list = []\n",
    "    for x in list1:\n",
    "        if x not in unique_list:\n",
    "            unique_list.append(x)\n",
    "    return unique_list\n",
    "    \n",
    "print(url)"
   ]
  },
  {
   "cell_type": "code",
   "execution_count": 8,
   "metadata": {},
   "outputs": [
    {
     "data": {
      "text/plain": [
       "110"
      ]
     },
     "execution_count": 8,
     "metadata": {},
     "output_type": "execute_result"
    }
   ],
   "source": [
    "\n",
    "\n",
    "\n",
    "job_item = currentSoup.find_all('li', class_='ais-Hits-item')\n",
    "crypto_job_list = []\n",
    "\n",
    "for job in job_item:\n",
    "    job_title = job.find('h2').find('a').text\n",
    "    job_url = \" https://cryptocurrencyjobs.co\" + job.find('h2').find('a')['href']\n",
    "    job_type = job.find_all('h4')\n",
    "    job_type = [job.text for job in job_type]\n",
    "    crypto_job_list.append([job_title, job_url, job_type])\n",
    "\n",
    "unque_crypto_job_list =  unique(crypto_job_list)\n",
    "len(unque_crypto_job_list)"
   ]
  },
  {
   "cell_type": "code",
   "execution_count": 12,
   "metadata": {},
   "outputs": [
    {
     "name": "stdout",
     "output_type": "stream",
     "text": [
      "[' Remote - Canada, Europe, UK, US ', '  Engineering  ', 'Contract', 'Part-Time']\n",
      "['Berlin', '  Engineering  ', 'Full-Time']\n",
      "['Berlin', ' Remote - Europe, North America, South America ', '  Engineering  ', 'Full-Time']\n",
      "['Berlin', '  Engineering  ', 'Freelance', 'Full-Time']\n",
      "['New York (NY)', 'San Francisco (CA)', ' Remote - US ', '  Engineering  ', 'Full-Time']\n",
      "[' Remote ', '  Engineering  ', 'Full-Time']\n",
      "[' Remote ', '  Engineering  ', 'Full-Time']\n",
      "[' Remote - Canada, US ', '  Engineering  ', 'Full-Time']\n",
      "[' Remote ', '  Engineering  ', 'Full-Time']\n",
      "['London', ' Remote ', '  Engineering  ', 'Full-Time']\n",
      "[' Remote - Canada, US ', '  Engineering  ', 'Full-Time']\n",
      "[' Remote ', '  Engineering  ', 'Full-Time']\n",
      "[' Remote ', '  Engineering  ', 'Full-Time']\n",
      "[' Remote ', '  Engineering  ', 'Full-Time']\n",
      "[' Remote ', '  Engineering  ', 'Full-Time']\n",
      "[' Remote ', '  Engineering  ', 'Full-Time']\n",
      "['London', ' Remote ', '  Engineering  ', 'Contract']\n",
      "['Berlin', 'Lisbon', ' Remote ', '  Engineering  ', 'Contract', 'Full-Time']\n",
      "[' Remote ', '  Engineering  ', 'Full-Time']\n",
      "[' Remote ', '  Engineering  ', 'Full-Time']\n",
      "['Amsterdam', ' Remote - Africa, Europe, North America, South America ', '  Engineering  ', 'Full-Time']\n",
      "[' Remote ', '  Engineering  ', 'Contract', 'Full-Time']\n",
      "[' Remote - Africa, Canada, Europe, UK, US ', '  Engineering  ', 'Full-Time']\n",
      "[' Remote ', '  Engineering  ', 'Full-Time']\n",
      "[' Remote ', '  Engineering  ', 'Full-Time']\n",
      "[' Remote ', '  Engineering  ', 'Contract']\n",
      "[' Remote ', '  Engineering  ', 'Full-Time']\n",
      "['Berlin', ' Remote ', '  Engineering  ', 'Freelance', 'Full-Time', 'Part-Time']\n",
      "['Amsterdam', ' Remote - Africa, Europe, North America, South America ', '  Engineering  ', 'Full-Time']\n",
      "['London', 'Singapore', '  Engineering  ', 'Full-Time']\n",
      "['London', 'Singapore', '  Engineering  ', 'Full-Time']\n",
      "['London', 'Singapore', '  Engineering  ', 'Full-Time']\n",
      "['Berlin', 'Lisbon', '  Engineering  ', 'Full-Time']\n",
      "['Montreal', ' Remote ', '  Engineering  ', 'Full-Time']\n",
      "[' Remote ', '  Engineering  ', 'Full-Time']\n",
      "[' Remote ', '  Engineering  ', 'Full-Time']\n",
      "['Berlin', ' Remote ', '  Engineering  ', 'Full-Time']\n",
      "['Berlin', ' Remote ', '  Engineering  ', 'Full-Time']\n",
      "[' Remote ', '  Engineering  ', 'Full-Time']\n",
      "[' Remote ', '  Engineering  ', 'Contract']\n",
      "[' Remote ', '  Engineering  ', 'Full-Time']\n",
      "['Brisbane', 'Melbourne', 'Sydney', ' Remote - Asia, Australia ', '  Engineering  ', 'Full-Time']\n",
      "['Brisbane', 'Melbourne', 'Sydney', ' Remote - Asia, Australia ', '  Engineering  ', 'Full-Time']\n",
      "['Brisbane', 'Melbourne', 'Sydney', ' Remote - Asia, Australia ', '  Engineering  ', 'Full-Time']\n",
      "[' Remote ', '  Engineering  ', 'Full-Time']\n",
      "[' Remote ', '  Engineering  ', 'Full-Time']\n",
      "['Taipei', '  Engineering  ', 'Full-Time']\n",
      "[' Remote ', '  Engineering  ', 'Contract', 'Freelance']\n",
      "[' Remote ', '  Engineering  ', 'Full-Time']\n",
      "['Vancouver', ' Remote - Australia, North America ', '  Engineering  ', 'Full-Time']\n",
      "['Barcelona', 'London', ' Remote ', '  Engineering  ', 'Full-Time']\n",
      "[' Remote ', '  Engineering  ', 'Full-Time']\n",
      "[' Remote ', '  Engineering  ', 'Full-Time']\n",
      "['Miami (FL)', 'New York (NY)', 'San Francisco (CA)', ' Remote - 4hr time overlap with EST ', '  Engineering  ', 'Full-Time']\n",
      "[' Remote - Canada, US ', '  Engineering  ', 'Full-Time']\n",
      "[' Remote ', '  Engineering  ', 'Full-Time']\n",
      "['Berlin', ' Remote ', '  Engineering  ', 'Freelance', 'Full-Time', 'Part-Time']\n",
      "['Berlin', ' Remote ', '  Engineering  ', 'Freelance', 'Full-Time']\n",
      "['Berlin', ' Remote - Europe ', '  Engineering  ', 'Contract', 'Full-Time']\n",
      "[' Remote ', '  Engineering  ', 'Contract', 'Full-Time']\n",
      "[' Remote - Europe, North America ', '  Engineering  ', 'Full-Time']\n",
      "[' Remote ', '  Engineering  ', 'Contract', 'Full-Time', 'Part-Time']\n",
      "[' Remote ', '  Engineering  ', 'Full-Time']\n",
      "[' Remote ', '  Engineering  ', 'Full-Time']\n",
      "[' Remote ', '  Engineering  ', 'Full-Time']\n",
      "[' Remote ', '  Engineering  ', 'Full-Time']\n",
      "[' Remote ', '  Engineering  ', 'Full-Time']\n",
      "['Miami (FL)', ' Remote ', '  Engineering  ', 'Full-Time']\n",
      "['Akron (OH)', 'Chicago (IL)', 'Cleveland (OH)', 'Detroit (MI)', 'Hunt Valley (MD)', 'Milwaukee (WI)', 'New York (NY)', 'Pittsburgh (PA)', 'Youngstown (OH)', ' Remote - US ', '  Engineering  ', 'Full-Time']\n",
      "[' Remote ', '  Engineering  ', 'Full-Time']\n",
      "[' Remote - Within UTC +5 and UTC +11 ', '  Engineering  ', 'Full-Time']\n",
      "[' Remote ', '  Engineering  ', 'Full-Time']\n",
      "[' Remote ', '  Engineering  ', 'Full-Time']\n",
      "[' Remote ', '  Engineering  ', 'Full-Time']\n",
      "[' Remote ', '  Engineering  ', 'Full-Time']\n",
      "[' Remote ', '  Engineering  ', 'Full-Time']\n",
      "[' Remote ', '  Engineering  ', 'Full-Time']\n",
      "['New York (NY)', '  Engineering  ', 'Internship']\n",
      "['Zurich', ' Remote - Europe ', '  Engineering  ', 'Full-Time']\n",
      "['San Francisco (CA)', '  Engineering  ', 'Internship']\n",
      "[' Remote - US ', '  Engineering  ', 'Full-Time']\n",
      "['New York (NY)', '  Engineering  ', 'Internship']\n",
      "['Menlo Park (CA)', '  Engineering  ', 'Full-Time']\n",
      "['Alpharetta (GA)', '  Engineering  ', 'Full-Time']\n",
      "[' Remote - GMT-7 to GMT -2 ', '  Engineering  ', 'Full-Time']\n",
      "[' Remote ', '  Engineering  ', 'Full-Time']\n",
      "['New York (NY)', '  Engineering  ', 'Contract']\n",
      "[' Remote ', '  Engineering  ', 'Full-Time']\n",
      "['Sydney', '  Engineering  ', 'Full-Time']\n",
      "['Singapore', '  Engineering  ', 'Full-Time']\n",
      "[' Remote ', '  Engineering  ', 'Full-Time']\n",
      "[' Remote ', '  Engineering  ', 'Full-Time']\n",
      "[' Remote - LATAM ', '  Engineering  ', 'Full-Time']\n",
      "[' Remote ', '  Engineering  ', 'Part-Time']\n",
      "['New York (NY)', '  Engineering  ', 'Internship']\n",
      "[' Remote ', '  Engineering  ', 'Full-Time']\n",
      "[' Remote - Canada, EMEA, LATAM, US ', '  Engineering  ', 'Full-Time']\n",
      "['Seattle (WA)', '  Engineering  ', 'Full-Time']\n",
      "[' Remote ', '  Engineering  ', 'Part-Time']\n",
      "['New York (NY)', 'San Francisco (CA)', 'Seattle (WA)', ' Remote ', '  Engineering  ', 'Internship']\n",
      "[' Remote ', '  Engineering  ', 'Part-Time']\n",
      "[' Remote ', '  Engineering  ', 'Full-Time']\n",
      "[' Remote ', '  Engineering  ', 'Full-Time']\n",
      "['New York (NY)', ' Remote ', '  Engineering  ', 'Full-Time']\n",
      "['Singapore', '  Engineering  ', 'Internship']\n",
      "['Chicago (IL)', 'New York (NY)', '  Engineering  ', 'Full-Time']\n",
      "[' Remote ', '  Engineering  ', 'Full-Time']\n",
      "[' Remote - Between UTC-8 and UTC+1 ', '  Engineering  ', 'Full-Time']\n",
      "[' Remote ', '  Engineering  ', 'Full-Time']\n",
      "[' Remote ', '  Engineering  ', 'Full-Time']\n"
     ]
    }
   ],
   "source": [
    "for i in unque_crypto_job_list:\n",
    "    print(i[2])"
   ]
  },
  {
   "cell_type": "code",
   "execution_count": 13,
   "metadata": {},
   "outputs": [
    {
     "data": {
      "text/plain": [
       "91"
      ]
     },
     "execution_count": 13,
     "metadata": {},
     "output_type": "execute_result"
    }
   ],
   "source": [
    "remote_roles = []\n",
    "\n",
    "for i in unque_crypto_job_list:\n",
    "    for j in i[2]:\n",
    "        if \"remote\" in j.lower():\n",
    "            remote_roles.append(i)\n",
    "            break\n",
    "\n",
    "\n",
    "len(remote_roles)"
   ]
  },
  {
   "cell_type": "code",
   "execution_count": 14,
   "metadata": {},
   "outputs": [
    {
     "name": "stdout",
     "output_type": "stream",
     "text": [
      " Developer Advocate/Relations (Part-Time/Contract) Web3 | Crypto | Blockchain   https://cryptocurrencyjobs.co/engineering/aldrin-labs-developer-advocate-relations-part-time-contract-web3-crypto-blockchain/\n",
      " Blockchain Support Engineer   https://cryptocurrencyjobs.co/engineering/chainflip-blockchain-support-engineer/\n",
      " Founding Engineer   https://cryptocurrencyjobs.co/engineering/fountain-platform-founding-engineer/\n",
      " Head of Developer Relations   https://cryptocurrencyjobs.co/engineering/uma-head-of-developer-relations/\n",
      " Senior Devops Engineer   https://cryptocurrencyjobs.co/engineering/gelato-network-senior-devops-engineer/\n",
      " Simulation & Machine Learning Engineer   https://cryptocurrencyjobs.co/engineering/gauntlet-network-simulation-machine-learning-engineer/\n",
      " Senior Solidity/Go Developer   https://cryptocurrencyjobs.co/engineering/yellow-senior-solidity-go-developer/\n",
      " Senior Front-End Developer - Blockchain, Crypto   https://cryptocurrencyjobs.co/engineering/clearmatics-senior-front-end-developer-blockchain-crypto/\n",
      " Software Engineer   https://cryptocurrencyjobs.co/engineering/gauntlet-network-software-engineer/\n",
      " Technical Writer   https://cryptocurrencyjobs.co/engineering/nethermind-technical-writer/\n",
      " Smart Contract Auditor   https://cryptocurrencyjobs.co/engineering/nethermind-smart-contract-auditor/\n",
      " Senior Frontend Engineer   https://cryptocurrencyjobs.co/engineering/swell-network-dao-senior-frontend-engineer/\n",
      " Senior Backend Engineer   https://cryptocurrencyjobs.co/engineering/swell-network-dao-senior-backend-engineer/\n",
      " Senior Smart Contract Engineer   https://cryptocurrencyjobs.co/engineering/swell-network-dao-senior-smart-contract-engineer/\n",
      " Solidity DeFi Engineer (Contractor)   https://cryptocurrencyjobs.co/engineering/bulkbit-systems-solidity-defi-engineer-contractor/\n",
      " Backend/Research Engineer (Rust)   https://cryptocurrencyjobs.co/engineering/cow-protocol-backend-research-engineer-rust/\n",
      " Frontend Engineer   https://cryptocurrencyjobs.co/engineering/add3-frontend-engineer/\n",
      " Fullstack Engineer   https://cryptocurrencyjobs.co/engineering/add3-fullstack-engineer/\n",
      " Backend Engineer - Remote Option Available   https://cryptocurrencyjobs.co/engineering/the-fabricant-backend-engineer-remote-option-available/\n",
      " Smart Contract Engineer (Solidity)   https://cryptocurrencyjobs.co/engineering/prepo-smart-contract-engineer/\n",
      " DeFi Security Auditor   https://cryptocurrencyjobs.co/engineering/sentnl-defi-security-auditor/\n",
      " Senior Front-End Engineer   https://cryptocurrencyjobs.co/engineering/aelin-senior-front-end-engineer/\n",
      " Cloud & Backend Data Engineer   https://cryptocurrencyjobs.co/engineering/nethermind-cloud-backend-data-engineer/\n",
      " Fractional CTO   https://cryptocurrencyjobs.co/engineering/the-risk-protocol-fractional-cto/\n",
      " Senior DevOps Engineer   https://cryptocurrencyjobs.co/engineering/uma-senior-devops-engineer/\n",
      " Blockchain Engineer   https://cryptocurrencyjobs.co/engineering/alloy-blockchain-engineer/\n",
      " Frontend Developer   https://cryptocurrencyjobs.co/engineering/the-fabricant-frontend-developer/\n",
      " Senior Full Stack Engineer   https://cryptocurrencyjobs.co/engineering/octav-senior-full-stack-engineer/\n",
      " Frontend Engineer   https://cryptocurrencyjobs.co/engineering/lulo-frontend-engineer/\n",
      " Full Stack Engineer   https://cryptocurrencyjobs.co/engineering/lulo-full-stack-engineer/\n",
      " Protocol Networking Engineer, (Backend TypeScript), Libp2p/Lodestar   https://cryptocurrencyjobs.co/engineering/chainsafe-systems-protocol-networking-engineer-backend-typescript-libp2p-lodestar/\n",
      " Protocol Engineer, Forest (Rust)   https://cryptocurrencyjobs.co/engineering/chainsafe-systems-protocol-engineer-forest-rust/\n",
      " DevSecOps   https://cryptocurrencyjobs.co/engineering/nethermind-devsecops/\n",
      " DevOps Engineer   https://cryptocurrencyjobs.co/engineering/nethermind-devops-engineer/\n",
      " Protocol Infrastructure Architect   https://cryptocurrencyjobs.co/engineering/nethermind-protocol-infrastructure-architect/\n",
      " Full-Stack Engineer (Mobile App)   https://cryptocurrencyjobs.co/engineering/mycelium-full-stack-engineer-mobile-app/\n",
      " Full-Stack Engineer (Web App)   https://cryptocurrencyjobs.co/engineering/mycelium-full-stack-engineer-web-app/\n",
      " Senior UI Engineer   https://cryptocurrencyjobs.co/engineering/mycelium-senior-ui-engineer/\n",
      " Cloud Architect   https://cryptocurrencyjobs.co/engineering/nethermind-cloud-architect/\n",
      " Blockchain Data Engineer   https://cryptocurrencyjobs.co/engineering/nethermind-blockchain-data-engineer/\n",
      " Senior Web3 Engineer   https://cryptocurrencyjobs.co/engineering/ubiquity-dao-senior-web3-engineer/\n",
      " Smart Contract Developer   https://cryptocurrencyjobs.co/engineering/dopamine-smart-contract-developer/\n",
      " Solidity Engineer   https://cryptocurrencyjobs.co/engineering/vesta-solidity-engineer/\n",
      " Chief Technology Officer (CTO) - Web3/DAOs   https://cryptocurrencyjobs.co/engineering/excelsior-labs-chief-technology-officer-cto-web3-daos/\n",
      " Senior Front End Engineer   https://cryptocurrencyjobs.co/engineering/gelato-network-senior-front-end-engineer/\n",
      " Principal Senior Developer   https://cryptocurrencyjobs.co/engineering/apy-vision-principal-senior-developer/\n",
      " Founding Blockchain Engineer   https://cryptocurrencyjobs.co/engineering/souq-founding-blockchain-engineer/\n",
      " Manager - Engineering   https://cryptocurrencyjobs.co/engineering/gauntlet-network-manager-engineering/\n",
      " Senior Backend Developer, Node.js / Express   https://cryptocurrencyjobs.co/engineering/clubrare-senior-backend-developer-node-js-express/\n",
      " Node.js Developer   https://cryptocurrencyjobs.co/engineering/alloy-node-js-developer/\n",
      " Senior React Developer   https://cryptocurrencyjobs.co/engineering/alloy-senior-react-developer/\n",
      " Senior Backend/Web3 Engineer - Berlin, remote   https://cryptocurrencyjobs.co/engineering/atem-senior-backend-web3-engineer-berlin-remote/\n",
      " Symfony Developer   https://cryptocurrencyjobs.co/engineering/dappradar-symfony-developer/\n",
      " DevOps Engineer (Security)   https://cryptocurrencyjobs.co/engineering/blockswap-devops-engineer-security/\n",
      " Web3 Developer Relations (Part-Time/Contract)   https://cryptocurrencyjobs.co/engineering/aldrin-labs-web3-developer-relations-part-time-contract/\n",
      " DevOps Engineer   https://cryptocurrencyjobs.co/engineering/status-devops-engineer/\n",
      " Protocol Software Engineer   https://cryptocurrencyjobs.co/engineering/pocket-network-protocol-software-engineer/\n",
      " Senior Test Automation Engineer (Qt/QML App)   https://cryptocurrencyjobs.co/engineering/status-senior-test-automation-engineer-qt-qml-app/\n",
      " Senior Frontend Engineer   https://cryptocurrencyjobs.co/engineering/doodles-senior-frontend-engineer/\n",
      " Blockchain Security Engineer   https://cryptocurrencyjobs.co/engineering/injective-labs-blockchain-security-engineer/\n",
      " Cryptography Engineer for Zero-Knowledge Proofs and MPC   https://cryptocurrencyjobs.co/engineering/metl-cryptography-engineer-for-zero-knowledge-proofs-and-mpc/\n",
      " Senior Software Developer, Digital Assets   https://cryptocurrencyjobs.co/engineering/cohen-company-senior-software-developer-digital-assets/\n",
      " Head of Engineering   https://cryptocurrencyjobs.co/engineering/clubrare-head-of-engineering/\n",
      " DeFi Security Researcher   https://cryptocurrencyjobs.co/engineering/perpetual-protocol-defi-security-researcher/\n",
      " Senior Front-end Engineer   https://cryptocurrencyjobs.co/engineering/bc-game-senior-front-end-engineer/\n",
      " Zero Knowledge Research Engineer   https://cryptocurrencyjobs.co/engineering/status-zero-knowledge-research-engineer/\n",
      " Senior Rust Developer (Infrastructure Team)   https://cryptocurrencyjobs.co/engineering/status-senior-rust-developer-infrastructure-team/\n",
      " Research Engineer   https://cryptocurrencyjobs.co/engineering/status-research-engineer/\n",
      " Senior Rust Developer   https://cryptocurrencyjobs.co/engineering/status-senior-rust-developer/\n",
      " DevOps Engineer   https://cryptocurrencyjobs.co/engineering/reservoir-devops-engineer/\n",
      " Developer Relations Advocate - Europe   https://cryptocurrencyjobs.co/engineering/solana-developer-relations-advocate-europe/\n",
      " Engineering Manager, Bitcoin Team   https://cryptocurrencyjobs.co/engineering/bitgo-engineering-manager-bitcoin-team/\n",
      " Developer Relations   https://cryptocurrencyjobs.co/engineering/c3-developer-relations/\n",
      " Security Apprenticeship, Blockchain   https://cryptocurrencyjobs.co/engineering/trail-of-bits-security-apprenticeship-blockchain/\n",
      " Analytics Engineer   https://cryptocurrencyjobs.co/engineering/nansen-analytics-engineer/\n",
      " Technical Writer   https://cryptocurrencyjobs.co/engineering/qredo-technical-writer/\n",
      " DevOps Engineer   https://cryptocurrencyjobs.co/engineering/chainlink-devops-engineer/\n",
      " Developer Advocate, LATAM   https://cryptocurrencyjobs.co/engineering/polygon-developer-advocate-latam/\n",
      " Senior Manual QA Engineer (Europe)   https://cryptocurrencyjobs.co/engineering/matter-labs-senior-manual-qa-engineer-europe/\n",
      " QA Engineer   https://cryptocurrencyjobs.co/engineering/lido-qa-engineer/\n",
      " Quality Assurance Engineer (MetaMask Snaps)   https://cryptocurrencyjobs.co/engineering/metamask-quality-assurance-engineer-metamask-snaps/\n",
      " Technical Writer   https://cryptocurrencyjobs.co/engineering/matter-labs-technical-writer/\n",
      " Software Engineer Intern (Fall period - Internship)   https://cryptocurrencyjobs.co/engineering/certik-software-engineer-intern-fall-period-internship/\n",
      " Entry-level Security Engineer (Part-time)   https://cryptocurrencyjobs.co/engineering/superrare-labs-entry-level-security-engineer-part-time/\n",
      " Senior Researcher - Mechanism Design   https://cryptocurrencyjobs.co/engineering/flashbots-senior-researcher-mechanism-design/\n",
      " QA Analyst - Cryptowatch   https://cryptocurrencyjobs.co/operations/kraken-digital-asset-exchange-qa-analyst-cryptowatch/\n",
      " Data Engineer   https://cryptocurrencyjobs.co/engineering/paxos-data-engineer/\n",
      " Applied Cryptography Researcher   https://cryptocurrencyjobs.co/engineering/spacemesh-applied-cryptography-researcher/\n",
      " QA Developer   https://cryptocurrencyjobs.co/engineering/vega-protocol-qa-developer/\n",
      " Security Research Engineer   https://cryptocurrencyjobs.co/engineering/brave-security-research-engineer/\n",
      " Blockchain Security Apprenticeship   https://cryptocurrencyjobs.co/engineering/trail-of-bits-blockchain-security-apprenticeship/\n"
     ]
    }
   ],
   "source": [
    "for i in remote_roles:\n",
    "    print(i[0], i[1])"
   ]
  },
  {
   "cell_type": "code",
   "execution_count": null,
   "metadata": {},
   "outputs": [],
   "source": []
  }
 ],
 "metadata": {
  "kernelspec": {
   "display_name": "Python 3.9.15 ('venv': venv)",
   "language": "python",
   "name": "python3"
  },
  "language_info": {
   "codemirror_mode": {
    "name": "ipython",
    "version": 3
   },
   "file_extension": ".py",
   "mimetype": "text/x-python",
   "name": "python",
   "nbconvert_exporter": "python",
   "pygments_lexer": "ipython3",
   "version": "3.9.15"
  },
  "orig_nbformat": 4,
  "vscode": {
   "interpreter": {
    "hash": "fdc41f0eadf12055021ad23f87a8a9ee8e96f5c00b057f56ee298e5db47363e5"
   }
  }
 },
 "nbformat": 4,
 "nbformat_minor": 2
}
