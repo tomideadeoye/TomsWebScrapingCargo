{
 "cells": [
  {
   "cell_type": "code",
   "execution_count": null,
   "metadata": {},
   "outputs": [],
   "source": [
    "# pip3 install selenium\n",
    "# download web drivers @ https://pypi.org/project/selenium/\n",
    "from selenium import webdriver"
   ]
  },
  {
   "cell_type": "code",
   "execution_count": null,
   "metadata": {},
   "outputs": [],
   "source": [
    "# opening a webpage \n",
    "driver = webdriver.Chrome()\n",
    "driver.get(\"https://www.pluralsight.com\")"
   ]
  },
  {
   "cell_type": "code",
   "execution_count": null,
   "metadata": {},
   "outputs": [],
   "source": [
    "# close current window \n",
    "driver.quit()\n"
   ]
  },
  {
   "cell_type": "code",
   "execution_count": null,
   "metadata": {},
   "outputs": [],
   "source": [
    "# opening a webpage with options\n",
    "options = webdriver.ChromeOptions()\n",
    "options.add_argument(\"--ignore-certificate-errors\")\n",
    "options.add_argument(\"--incognito\")\n",
    "driver.get(\"https://www.pluralsight.com\")"
   ]
  }
 ],
 "metadata": {
  "kernelspec": {
   "display_name": "Python 3.9.13 ('env': venv)",
   "language": "python",
   "name": "python3"
  },
  "language_info": {
   "name": "python",
   "version": "3.9.13"
  },
  "orig_nbformat": 4,
  "vscode": {
   "interpreter": {
    "hash": "c7baf2656c493933d15a9ed8322047828cbdeff0dc98ff5e01fa3300d620d131"
   }
  }
 },
 "nbformat": 4,
 "nbformat_minor": 2
}
