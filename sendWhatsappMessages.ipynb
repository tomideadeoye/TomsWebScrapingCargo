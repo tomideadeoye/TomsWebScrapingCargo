{
 "cells": [
  {
   "cell_type": "code",
   "execution_count": 4,
   "metadata": {},
   "outputs": [],
   "source": [
    "import pywhatkit \n",
    "import time\n",
    "import pyautogui\n",
    "import time\n",
    "import datetime \n",
    "from selenium import webdriver\n",
    "from selenium.webdriver.chrome.options import Options\n",
    "from selenium.webdriver.common.keys import Keys\n",
    "import os\n",
    "from plyer import notification"
   ]
  },
  {
   "cell_type": "code",
   "execution_count": 2,
   "metadata": {},
   "outputs": [],
   "source": [
    "whatsappNumber = '+251914056337'"
   ]
  },
  {
   "cell_type": "code",
   "execution_count": 3,
   "metadata": {},
   "outputs": [],
   "source": [
    "pywhatkit.sendwhatmsg_instantly(whatsappNumber, \"hello\", 15)\n",
    "\n",
    "# find span element with data-testid=\"send\" and click it\n",
    "#\n",
    " \n",
    "\n",
    "\n",
    "# pyautogui.click(pyautogui.locateCenterOnScreen('send.png'))"
   ]
  },
  {
   "cell_type": "code",
   "execution_count": null,
   "metadata": {},
   "outputs": [],
   "source": [
    "phone_no = \"+2348181927251\"\n",
    "message = \"Hello, this is a test message\"\n",
    "group_id = \"3287\"\n",
    "now = time.localtime()\n",
    "current_time = time.strftime(\"%H:%M\", now)\n",
    "time_hour = int(current_time[0:2])\n",
    "time_min = minute = int(current_time[3:5]) + 1\n",
    "wait_time = 15\n",
    "tab_close = True\n",
    "close_time = 10\n",
    "\n",
    "\n",
    "time_min\n",
    "\n",
    "# send instantly \n",
    "\n",
    "\n",
    "\n",
    "\n",
    "# syntax: phone number with country code, message, hour and minutes\n",
    "# pywhatkit.sendwhatmsg(phone_no, message, time_hour, time_min, wait_time, tab_close, close_time)"
   ]
  },
  {
   "cell_type": "code",
   "execution_count": null,
   "metadata": {},
   "outputs": [],
   "source": [
    "from tkinter import *\n",
    "\n",
    "win = Tk() # Some Tkinter stuff\n",
    "screen_width = win.winfo_screenwidth() # Gets the resolution (width) of your monitor\n",
    "screen_height= win.winfo_screenheight() # Gets the resolution (height) of your monitor\n",
    "print(screen_width, screen_height) # prints your monitor's resolution\n",
    "pywhatkit.sendwhatmsg(phone_no, \"Enter Message\", 0, 0) # Sends the message\n",
    "pyautogui.moveTo(screen_width * 0.694, screen_height* 0.964) # Moves the cursor the the message bar in Whatsapp\n",
    "pyautogui.click() # Clicks the bar\n",
    "pyautogui.press('enter') # Sends the message"
   ]
  },
  {
   "cell_type": "code",
   "execution_count": 8,
   "metadata": {},
   "outputs": [
    {
     "ename": "NotImplementedError",
     "evalue": "No usable implementation found!",
     "output_type": "error",
     "traceback": [
      "\u001b[0;31m---------------------------------------------------------------------------\u001b[0m",
      "\u001b[0;31mAttributeError\u001b[0m                            Traceback (most recent call last)",
      "Cell \u001b[0;32mIn [8], line 12\u001b[0m, in \u001b[0;36mmessenger\u001b[0;34m()\u001b[0m\n\u001b[1;32m     11\u001b[0m time\u001b[39m.\u001b[39msleep(\u001b[39m20\u001b[39m)\n\u001b[0;32m---> 12\u001b[0m type_it \u001b[39m=\u001b[39m driver\u001b[39m.\u001b[39;49mfind_elements_by_class_name(\u001b[39m'\u001b[39m\u001b[39m_13NKt\u001b[39m\u001b[39m'\u001b[39m)\n\u001b[1;32m     13\u001b[0m time\u001b[39m.\u001b[39msleep(\u001b[39m20\u001b[39m)\n",
      "\u001b[0;31mAttributeError\u001b[0m: 'WebDriver' object has no attribute 'find_elements_by_class_name'",
      "\nDuring handling of the above exception, another exception occurred:\n",
      "\u001b[0;31mNotImplementedError\u001b[0m                       Traceback (most recent call last)",
      "Cell \u001b[0;32mIn [8], line 36\u001b[0m\n\u001b[1;32m     33\u001b[0m         \u001b[39mprint\u001b[39m(e)\n\u001b[1;32m     34\u001b[0m         os\u001b[39m.\u001b[39m_exit(\u001b[39m0\u001b[39m)\n\u001b[0;32m---> 36\u001b[0m messenger()\n",
      "Cell \u001b[0;32mIn [8], line 26\u001b[0m, in \u001b[0;36mmessenger\u001b[0;34m()\u001b[0m\n\u001b[1;32m     24\u001b[0m     driver\u001b[39m.\u001b[39mquit()\n\u001b[1;32m     25\u001b[0m \u001b[39mexcept\u001b[39;00m \u001b[39mException\u001b[39;00m \u001b[39mas\u001b[39;00m e:\n\u001b[0;32m---> 26\u001b[0m     notification\u001b[39m.\u001b[39;49mnotify(\n\u001b[1;32m     27\u001b[0m         title \u001b[39m=\u001b[39;49m \u001b[39m\"\u001b[39;49m\u001b[39mWhatsapp message not sent\u001b[39;49m\u001b[39m\"\u001b[39;49m,\n\u001b[1;32m     28\u001b[0m         message \u001b[39m=\u001b[39;49m \u001b[39m\"\u001b[39;49m\u001b[39mError while sending!\u001b[39;49m\u001b[39m\"\u001b[39;49m,\n\u001b[1;32m     29\u001b[0m         app_icon \u001b[39m=\u001b[39;49m \u001b[39mr\u001b[39;49m\u001b[39m\"\u001b[39;49m\u001b[39m<Your icon file>\u001b[39;49m\u001b[39m\"\u001b[39;49m,\n\u001b[1;32m     30\u001b[0m         app_name \u001b[39m=\u001b[39;49m \u001b[39m\"\u001b[39;49m\u001b[39mWhatsapp Message error\u001b[39;49m\u001b[39m\"\u001b[39;49m,\n\u001b[1;32m     31\u001b[0m         toast \u001b[39m=\u001b[39;49m \u001b[39mTrue\u001b[39;49;00m,\n\u001b[1;32m     32\u001b[0m           )\n\u001b[1;32m     33\u001b[0m     \u001b[39mprint\u001b[39m(e)\n\u001b[1;32m     34\u001b[0m     os\u001b[39m.\u001b[39m_exit(\u001b[39m0\u001b[39m)\n",
      "File \u001b[0;32m~/Documents/GitHub/TomsWebScrapingCargo/venv/lib/python3.9/site-packages/plyer/facades/notification.py:84\u001b[0m, in \u001b[0;36mNotification.notify\u001b[0;34m(self, title, message, app_name, app_icon, timeout, ticker, toast, hints)\u001b[0m\n\u001b[1;32m     48\u001b[0m \u001b[39mdef\u001b[39;00m \u001b[39mnotify\u001b[39m(\u001b[39mself\u001b[39m, title\u001b[39m=\u001b[39m\u001b[39m'\u001b[39m\u001b[39m'\u001b[39m, message\u001b[39m=\u001b[39m\u001b[39m'\u001b[39m\u001b[39m'\u001b[39m, app_name\u001b[39m=\u001b[39m\u001b[39m'\u001b[39m\u001b[39m'\u001b[39m, app_icon\u001b[39m=\u001b[39m\u001b[39m'\u001b[39m\u001b[39m'\u001b[39m,\n\u001b[1;32m     49\u001b[0m            timeout\u001b[39m=\u001b[39m\u001b[39m10\u001b[39m, ticker\u001b[39m=\u001b[39m\u001b[39m'\u001b[39m\u001b[39m'\u001b[39m, toast\u001b[39m=\u001b[39m\u001b[39mFalse\u001b[39;00m, hints\u001b[39m=\u001b[39m{}):\n\u001b[1;32m     50\u001b[0m     \u001b[39m'''\u001b[39;00m\n\u001b[1;32m     51\u001b[0m \u001b[39m    Send a notification.\u001b[39;00m\n\u001b[1;32m     52\u001b[0m \n\u001b[0;32m   (...)\u001b[0m\n\u001b[1;32m     81\u001b[0m \u001b[39m       Add 'toast' keyword argument\u001b[39;00m\n\u001b[1;32m     82\u001b[0m \u001b[39m    '''\u001b[39;00m\n\u001b[0;32m---> 84\u001b[0m     \u001b[39mself\u001b[39;49m\u001b[39m.\u001b[39;49m_notify(\n\u001b[1;32m     85\u001b[0m         title\u001b[39m=\u001b[39;49mtitle, message\u001b[39m=\u001b[39;49mmessage,\n\u001b[1;32m     86\u001b[0m         app_icon\u001b[39m=\u001b[39;49mapp_icon, app_name\u001b[39m=\u001b[39;49mapp_name,\n\u001b[1;32m     87\u001b[0m         timeout\u001b[39m=\u001b[39;49mtimeout, ticker\u001b[39m=\u001b[39;49mticker, toast\u001b[39m=\u001b[39;49mtoast, hints\u001b[39m=\u001b[39;49mhints\n\u001b[1;32m     88\u001b[0m     )\n",
      "File \u001b[0;32m~/Documents/GitHub/TomsWebScrapingCargo/venv/lib/python3.9/site-packages/plyer/facades/notification.py:93\u001b[0m, in \u001b[0;36mNotification._notify\u001b[0;34m(self, **kwargs)\u001b[0m\n\u001b[1;32m     92\u001b[0m \u001b[39mdef\u001b[39;00m \u001b[39m_notify\u001b[39m(\u001b[39mself\u001b[39m, \u001b[39m*\u001b[39m\u001b[39m*\u001b[39mkwargs):\n\u001b[0;32m---> 93\u001b[0m     \u001b[39mraise\u001b[39;00m \u001b[39mNotImplementedError\u001b[39;00m(\u001b[39m\"\u001b[39m\u001b[39mNo usable implementation found!\u001b[39m\u001b[39m\"\u001b[39m)\n",
      "\u001b[0;31mNotImplementedError\u001b[0m: No usable implementation found!"
     ]
    }
   ],
   "source": [
    "def messenger():\n",
    "    try:\n",
    "        url =\"https://web.whatsapp.com/send?phone=+2348181927251\"\n",
    "        message_content = \"Good morning!\"\n",
    "        path = \"/Applications/Google Chrome.app/Contents/MacOS/Google Chrome\"\n",
    "        options = webdriver.ChromeOptions()\n",
    "        options.add_argument(\"user-data-dir=/Users/tomideisawesome/Library/Application Support/Google/Chrome/Profile 1\")\n",
    "        driver = webdriver.Chrome( )\n",
    "        driver.minimize_window()\n",
    "        driver.get(url)\n",
    "        time.sleep(20)\n",
    "        type_it = driver.find_elements_by_class_name('_13NKt')\n",
    "        time.sleep(20)\n",
    "        try:\n",
    "            type_it[1].send_keys(message_content + Keys.ENTER)\n",
    "        except IndexError as e:\n",
    "            time.sleep(20) \n",
    "            type_it = driver.find_element_by_xpath('/html/body/div[1]/div[1]/div[1]/div[4]/div[1]/footer/div[1]/div/span[2]/div/div[2]/div[1]/div/div[2]')\n",
    "            type_it.send_keys(message_content+ Keys.ENTER)\n",
    "\n",
    "           \n",
    "            print(e)\n",
    "        time.sleep(10)\n",
    "        driver.quit()\n",
    "    except Exception as e:\n",
    "        notification.notify(\n",
    "            title = \"Whatsapp message not sent\",\n",
    "            message = \"Error while sending!\",\n",
    "            app_icon = r\"<Your icon file>\",\n",
    "            app_name = \"Whatsapp Message error\",\n",
    "            toast = True,\n",
    "              )\n",
    "        print(e)\n",
    "        os._exit(0)\n",
    "\n",
    "messenger()"
   ]
  },
  {
   "cell_type": "code",
   "execution_count": 20,
   "metadata": {},
   "outputs": [
    {
     "name": "stdout",
     "output_type": "stream",
     "text": [
      "27\n"
     ]
    },
    {
     "name": "stderr",
     "output_type": "stream",
     "text": [
      "/var/folders/yt/r5vqk9zd7f35c460q8mztp2w0000gn/T/ipykernel_3305/1590511638.py:8: DeprecationWarning: executable_path has been deprecated, please pass in a Service object\n",
      "  driver = webdriver.Chrome(executable_path=path, options=options)\n"
     ]
    },
    {
     "name": "stdout",
     "output_type": "stream",
     "text": [
      "[Errno 22] Invalid argument\n",
      "No usable implementation found!\n"
     ]
    }
   ],
   "source": [
    "today = str(datetime.date.today())\n",
    "today_2 = f\"{today} \"\n",
    "content = bytes(today_2,'utf-8')\n",
    "year_str = str(datetime.datetime.now().year)\n",
    "year_edit = bytes(year_str,'utf-8').decode('utf-8')\n",
    "date_str = str(datetime.datetime.now().day)\n",
    "date_edit = bytes(date_str,'utf-8').decode('utf-8')\n",
    "edit = {\"1\":\"01\",\n",
    "        \"2\":\"02\",\n",
    "        \"2\":\"03\",\n",
    "        \"4\":\"04\",\n",
    "        \"5\":\"05\",\n",
    "        \"6\":\"06\",\n",
    "        \"7\":\"07\",\n",
    "        \"8\":\"08\",\n",
    "        \"9\":\"09\",}\n",
    "print(date_edit)\n",
    "try:\n",
    "    file = open(\"database.txt\", \"x\")\n",
    "    messenger()\n",
    "    file.write(today_2)\n",
    "    file.close()\n",
    "except Exception as e:\n",
    "    file = open(\"database.txt\", \"a+b\")\n",
    "    try:\n",
    "        try:\n",
    "            file.seek(-11,2) # seek will not work in negative in text mode, only in byte mode\n",
    "        except OSError as e:\n",
    "            print(e)\n",
    "            messenger()\n",
    "            file.write(content)\n",
    "            file.close()\n",
    "            os._exit(0)\n",
    "        year = file.read(10).decode('utf-8')\n",
    "        file.seek(-11,2)\n",
    "        date = file.read(10).decode('utf-8')\n",
    "        if year_edit != year[:4]:\n",
    "            file.close()\n",
    "            file = open(\"database.txt\", \"wb\")\n",
    "            file.close()\n",
    "            file = open(\"database.txt\", \"a+b\")\n",
    "            messenger()\n",
    "            file.write(content)\n",
    "            file.close()\n",
    "        for x in edit.keys():\n",
    "            if x == date_edit:\n",
    "                date_edit = edit.get(x)\n",
    "                break\n",
    "        if date_edit != date[8:14]:\n",
    "            messenger()\n",
    "            file.write(content)\n",
    "            file.close()\n",
    "            os._exit(0)\n",
    "    except Exception as e:\n",
    "        print(e)"
   ]
  },
  {
   "cell_type": "code",
   "execution_count": 6,
   "metadata": {},
   "outputs": [],
   "source": [
    "# win = Tk() # Some Tkinter stuff\n",
    "# screen_width = win.winfo_screenwidth() # Gets the resolution (width) of your monitor\n",
    "# screen_height= win.winfo_screenheight()\n",
    "\n",
    "\n",
    "pywhatkit.sendwhatmsg_to_group(group_id, message, time_hour, time_min, wait_time, tab_close, close_time)\n",
    "# pyautogui.moveTo(screen_width * 0.694, screen_height* 0.964) # Moves the cursor the the message bar in Whatsapp\n",
    "pyautogui.click(1050, 950)\n",
    "time.sleep(2)\n",
    "pyautogui.press('enter') # Sends the message"
   ]
  },
  {
   "cell_type": "code",
   "execution_count": 7,
   "metadata": {},
   "outputs": [],
   "source": [
    "\n",
    "# # syntax: group id, message, hour and minutes\n",
    "# pywhatkit.sendwhatmsg_to_group(\"write-id-here\", \"Message 3\", 19, 2)\n",
    "# sendwhats_image(receiver: str, img_path: str, caption: str = \"\", wait_time: int = 15, tab_close: bool = False, close_time: int = 3) -> None"
   ]
  }
 ],
 "metadata": {
  "kernelspec": {
   "display_name": "Python 3.9.15 ('venv': venv)",
   "language": "python",
   "name": "python3"
  },
  "language_info": {
   "codemirror_mode": {
    "name": "ipython",
    "version": 3
   },
   "file_extension": ".py",
   "mimetype": "text/x-python",
   "name": "python",
   "nbconvert_exporter": "python",
   "pygments_lexer": "ipython3",
   "version": "3.9.15 (main, Oct 11 2022, 21:39:54) \n[Clang 14.0.0 (clang-1400.0.29.102)]"
  },
  "orig_nbformat": 4,
  "vscode": {
   "interpreter": {
    "hash": "fdc41f0eadf12055021ad23f87a8a9ee8e96f5c00b057f56ee298e5db47363e5"
   }
  }
 },
 "nbformat": 4,
 "nbformat_minor": 2
}
